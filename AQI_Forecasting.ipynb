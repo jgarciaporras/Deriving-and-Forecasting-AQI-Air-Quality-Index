{
 "cells": [
  {
   "cell_type": "markdown",
   "id": "0cacea41",
   "metadata": {},
   "source": [
    "# Problem Statement\n",
    "- Air pollution "
   ]
  },
  {
   "cell_type": "code",
   "execution_count": null,
   "id": "9edf0504",
   "metadata": {},
   "outputs": [],
   "source": []
  },
  {
   "cell_type": "code",
   "execution_count": null,
   "id": "570b6d32",
   "metadata": {},
   "outputs": [],
   "source": []
  },
  {
   "cell_type": "code",
   "execution_count": 170,
   "id": "d60cc85f",
   "metadata": {},
   "outputs": [],
   "source": [
    "import pandas as pd\n",
    "import numpy as np\n",
    "\n",
    "import seaborn as sns\n",
    "\n",
    "from sklearn.impute import SimpleImputer"
   ]
  },
  {
   "cell_type": "code",
   "execution_count": 153,
   "id": "34142091",
   "metadata": {},
   "outputs": [],
   "source": [
    "df = pd.read_csv('AirQualityUCI.csv', sep=\";\")"
   ]
  },
  {
   "cell_type": "code",
   "execution_count": 154,
   "id": "0f0d8fba",
   "metadata": {},
   "outputs": [
    {
     "data": {
      "text/html": [
       "<div>\n",
       "<style scoped>\n",
       "    .dataframe tbody tr th:only-of-type {\n",
       "        vertical-align: middle;\n",
       "    }\n",
       "\n",
       "    .dataframe tbody tr th {\n",
       "        vertical-align: top;\n",
       "    }\n",
       "\n",
       "    .dataframe thead th {\n",
       "        text-align: right;\n",
       "    }\n",
       "</style>\n",
       "<table border=\"1\" class=\"dataframe\">\n",
       "  <thead>\n",
       "    <tr style=\"text-align: right;\">\n",
       "      <th></th>\n",
       "      <th>Date</th>\n",
       "      <th>Time</th>\n",
       "      <th>CO(GT)</th>\n",
       "      <th>PT08.S1(CO)</th>\n",
       "      <th>NMHC(GT)</th>\n",
       "      <th>C6H6(GT)</th>\n",
       "      <th>PT08.S2(NMHC)</th>\n",
       "      <th>NOx(GT)</th>\n",
       "      <th>PT08.S3(NOx)</th>\n",
       "      <th>NO2(GT)</th>\n",
       "      <th>PT08.S4(NO2)</th>\n",
       "      <th>PT08.S5(O3)</th>\n",
       "      <th>T</th>\n",
       "      <th>RH</th>\n",
       "      <th>AH</th>\n",
       "      <th>Unnamed: 15</th>\n",
       "      <th>Unnamed: 16</th>\n",
       "    </tr>\n",
       "  </thead>\n",
       "  <tbody>\n",
       "    <tr>\n",
       "      <th>0</th>\n",
       "      <td>10/03/2004</td>\n",
       "      <td>18.00.00</td>\n",
       "      <td>2,6</td>\n",
       "      <td>1360.0</td>\n",
       "      <td>150.0</td>\n",
       "      <td>11,9</td>\n",
       "      <td>1046.0</td>\n",
       "      <td>166.0</td>\n",
       "      <td>1056.0</td>\n",
       "      <td>113.0</td>\n",
       "      <td>1692.0</td>\n",
       "      <td>1268.0</td>\n",
       "      <td>13,6</td>\n",
       "      <td>48,9</td>\n",
       "      <td>0,7578</td>\n",
       "      <td>NaN</td>\n",
       "      <td>NaN</td>\n",
       "    </tr>\n",
       "    <tr>\n",
       "      <th>1</th>\n",
       "      <td>10/03/2004</td>\n",
       "      <td>19.00.00</td>\n",
       "      <td>2</td>\n",
       "      <td>1292.0</td>\n",
       "      <td>112.0</td>\n",
       "      <td>9,4</td>\n",
       "      <td>955.0</td>\n",
       "      <td>103.0</td>\n",
       "      <td>1174.0</td>\n",
       "      <td>92.0</td>\n",
       "      <td>1559.0</td>\n",
       "      <td>972.0</td>\n",
       "      <td>13,3</td>\n",
       "      <td>47,7</td>\n",
       "      <td>0,7255</td>\n",
       "      <td>NaN</td>\n",
       "      <td>NaN</td>\n",
       "    </tr>\n",
       "    <tr>\n",
       "      <th>2</th>\n",
       "      <td>10/03/2004</td>\n",
       "      <td>20.00.00</td>\n",
       "      <td>2,2</td>\n",
       "      <td>1402.0</td>\n",
       "      <td>88.0</td>\n",
       "      <td>9,0</td>\n",
       "      <td>939.0</td>\n",
       "      <td>131.0</td>\n",
       "      <td>1140.0</td>\n",
       "      <td>114.0</td>\n",
       "      <td>1555.0</td>\n",
       "      <td>1074.0</td>\n",
       "      <td>11,9</td>\n",
       "      <td>54,0</td>\n",
       "      <td>0,7502</td>\n",
       "      <td>NaN</td>\n",
       "      <td>NaN</td>\n",
       "    </tr>\n",
       "    <tr>\n",
       "      <th>3</th>\n",
       "      <td>10/03/2004</td>\n",
       "      <td>21.00.00</td>\n",
       "      <td>2,2</td>\n",
       "      <td>1376.0</td>\n",
       "      <td>80.0</td>\n",
       "      <td>9,2</td>\n",
       "      <td>948.0</td>\n",
       "      <td>172.0</td>\n",
       "      <td>1092.0</td>\n",
       "      <td>122.0</td>\n",
       "      <td>1584.0</td>\n",
       "      <td>1203.0</td>\n",
       "      <td>11,0</td>\n",
       "      <td>60,0</td>\n",
       "      <td>0,7867</td>\n",
       "      <td>NaN</td>\n",
       "      <td>NaN</td>\n",
       "    </tr>\n",
       "    <tr>\n",
       "      <th>4</th>\n",
       "      <td>10/03/2004</td>\n",
       "      <td>22.00.00</td>\n",
       "      <td>1,6</td>\n",
       "      <td>1272.0</td>\n",
       "      <td>51.0</td>\n",
       "      <td>6,5</td>\n",
       "      <td>836.0</td>\n",
       "      <td>131.0</td>\n",
       "      <td>1205.0</td>\n",
       "      <td>116.0</td>\n",
       "      <td>1490.0</td>\n",
       "      <td>1110.0</td>\n",
       "      <td>11,2</td>\n",
       "      <td>59,6</td>\n",
       "      <td>0,7888</td>\n",
       "      <td>NaN</td>\n",
       "      <td>NaN</td>\n",
       "    </tr>\n",
       "  </tbody>\n",
       "</table>\n",
       "</div>"
      ],
      "text/plain": [
       "         Date      Time CO(GT)  PT08.S1(CO)  NMHC(GT) C6H6(GT)  PT08.S2(NMHC)  \\\n",
       "0  10/03/2004  18.00.00    2,6       1360.0     150.0     11,9         1046.0   \n",
       "1  10/03/2004  19.00.00      2       1292.0     112.0      9,4          955.0   \n",
       "2  10/03/2004  20.00.00    2,2       1402.0      88.0      9,0          939.0   \n",
       "3  10/03/2004  21.00.00    2,2       1376.0      80.0      9,2          948.0   \n",
       "4  10/03/2004  22.00.00    1,6       1272.0      51.0      6,5          836.0   \n",
       "\n",
       "   NOx(GT)  PT08.S3(NOx)  NO2(GT)  PT08.S4(NO2)  PT08.S5(O3)     T    RH  \\\n",
       "0    166.0        1056.0    113.0        1692.0       1268.0  13,6  48,9   \n",
       "1    103.0        1174.0     92.0        1559.0        972.0  13,3  47,7   \n",
       "2    131.0        1140.0    114.0        1555.0       1074.0  11,9  54,0   \n",
       "3    172.0        1092.0    122.0        1584.0       1203.0  11,0  60,0   \n",
       "4    131.0        1205.0    116.0        1490.0       1110.0  11,2  59,6   \n",
       "\n",
       "       AH  Unnamed: 15  Unnamed: 16  \n",
       "0  0,7578          NaN          NaN  \n",
       "1  0,7255          NaN          NaN  \n",
       "2  0,7502          NaN          NaN  \n",
       "3  0,7867          NaN          NaN  \n",
       "4  0,7888          NaN          NaN  "
      ]
     },
     "execution_count": 154,
     "metadata": {},
     "output_type": "execute_result"
    }
   ],
   "source": [
    "df.head()"
   ]
  },
  {
   "cell_type": "code",
   "execution_count": 155,
   "id": "4738abda",
   "metadata": {},
   "outputs": [],
   "source": [
    "df = df.iloc[:, 2:-2]"
   ]
  },
  {
   "cell_type": "code",
   "execution_count": 156,
   "id": "ffc60644",
   "metadata": {},
   "outputs": [],
   "source": [
    "df.dropna(inplace=True)"
   ]
  },
  {
   "cell_type": "markdown",
   "id": "7d42f494",
   "metadata": {},
   "source": [
    "### Replacing -200 with nan and imputing using a SimpleImputer"
   ]
  },
  {
   "cell_type": "code",
   "execution_count": 157,
   "id": "12ff41f6",
   "metadata": {},
   "outputs": [],
   "source": [
    "feature_list = df.columns.tolist()"
   ]
  },
  {
   "cell_type": "code",
   "execution_count": 158,
   "id": "c08f9857",
   "metadata": {},
   "outputs": [],
   "source": [
    "for feature in feature_list:    \n",
    "    df[feature] = df[feature].apply(lambda x: str(x).replace(',', '.')) \n",
    "    df[feature] = df[feature].apply(lambda x: str(x).replace('-200.0', str(np.nan)))\n",
    "    df[feature] = df[feature].apply(lambda x: float(x))"
   ]
  },
  {
   "cell_type": "code",
   "execution_count": 159,
   "id": "8b17ab64",
   "metadata": {},
   "outputs": [],
   "source": [
    "df['CO(GT)'] = df['CO(GT)'].apply(lambda x: str(x).replace('-200.0', str(np.nan))) \n",
    "df['CO(GT)'] = df['CO(GT)'].apply(lambda x: str(x).replace('-200', str(np.nan)))    "
   ]
  },
  {
   "cell_type": "code",
   "execution_count": 160,
   "id": "f9d43a43",
   "metadata": {},
   "outputs": [
    {
     "data": {
      "text/plain": [
       "CO(GT)            object\n",
       "PT08.S1(CO)      float64\n",
       "NMHC(GT)         float64\n",
       "C6H6(GT)         float64\n",
       "PT08.S2(NMHC)    float64\n",
       "NOx(GT)          float64\n",
       "PT08.S3(NOx)     float64\n",
       "NO2(GT)          float64\n",
       "PT08.S4(NO2)     float64\n",
       "PT08.S5(O3)      float64\n",
       "T                float64\n",
       "RH               float64\n",
       "AH               float64\n",
       "dtype: object"
      ]
     },
     "execution_count": 160,
     "metadata": {},
     "output_type": "execute_result"
    }
   ],
   "source": [
    "df.dtypes"
   ]
  },
  {
   "cell_type": "code",
   "execution_count": 161,
   "id": "c42ebe26",
   "metadata": {},
   "outputs": [
    {
     "data": {
      "text/html": [
       "<div>\n",
       "<style scoped>\n",
       "    .dataframe tbody tr th:only-of-type {\n",
       "        vertical-align: middle;\n",
       "    }\n",
       "\n",
       "    .dataframe tbody tr th {\n",
       "        vertical-align: top;\n",
       "    }\n",
       "\n",
       "    .dataframe thead th {\n",
       "        text-align: right;\n",
       "    }\n",
       "</style>\n",
       "<table border=\"1\" class=\"dataframe\">\n",
       "  <thead>\n",
       "    <tr style=\"text-align: right;\">\n",
       "      <th></th>\n",
       "      <th>CO(GT)</th>\n",
       "      <th>PT08.S1(CO)</th>\n",
       "      <th>NMHC(GT)</th>\n",
       "      <th>C6H6(GT)</th>\n",
       "      <th>PT08.S2(NMHC)</th>\n",
       "      <th>NOx(GT)</th>\n",
       "      <th>PT08.S3(NOx)</th>\n",
       "      <th>NO2(GT)</th>\n",
       "      <th>PT08.S4(NO2)</th>\n",
       "      <th>PT08.S5(O3)</th>\n",
       "      <th>T</th>\n",
       "      <th>RH</th>\n",
       "      <th>AH</th>\n",
       "    </tr>\n",
       "  </thead>\n",
       "  <tbody>\n",
       "    <tr>\n",
       "      <th>0</th>\n",
       "      <td>2.6</td>\n",
       "      <td>1360.0</td>\n",
       "      <td>150.0</td>\n",
       "      <td>11.9</td>\n",
       "      <td>1046.0</td>\n",
       "      <td>166.0</td>\n",
       "      <td>1056.0</td>\n",
       "      <td>113.0</td>\n",
       "      <td>1692.0</td>\n",
       "      <td>1268.0</td>\n",
       "      <td>13.6</td>\n",
       "      <td>48.9</td>\n",
       "      <td>0.7578</td>\n",
       "    </tr>\n",
       "    <tr>\n",
       "      <th>1</th>\n",
       "      <td>2.0</td>\n",
       "      <td>1292.0</td>\n",
       "      <td>112.0</td>\n",
       "      <td>9.4</td>\n",
       "      <td>955.0</td>\n",
       "      <td>103.0</td>\n",
       "      <td>1174.0</td>\n",
       "      <td>92.0</td>\n",
       "      <td>1559.0</td>\n",
       "      <td>972.0</td>\n",
       "      <td>13.3</td>\n",
       "      <td>47.7</td>\n",
       "      <td>0.7255</td>\n",
       "    </tr>\n",
       "    <tr>\n",
       "      <th>2</th>\n",
       "      <td>2.2</td>\n",
       "      <td>1402.0</td>\n",
       "      <td>88.0</td>\n",
       "      <td>9.0</td>\n",
       "      <td>939.0</td>\n",
       "      <td>131.0</td>\n",
       "      <td>1140.0</td>\n",
       "      <td>114.0</td>\n",
       "      <td>1555.0</td>\n",
       "      <td>1074.0</td>\n",
       "      <td>11.9</td>\n",
       "      <td>54.0</td>\n",
       "      <td>0.7502</td>\n",
       "    </tr>\n",
       "    <tr>\n",
       "      <th>3</th>\n",
       "      <td>2.2</td>\n",
       "      <td>1376.0</td>\n",
       "      <td>80.0</td>\n",
       "      <td>9.2</td>\n",
       "      <td>948.0</td>\n",
       "      <td>172.0</td>\n",
       "      <td>1092.0</td>\n",
       "      <td>122.0</td>\n",
       "      <td>1584.0</td>\n",
       "      <td>1203.0</td>\n",
       "      <td>11.0</td>\n",
       "      <td>60.0</td>\n",
       "      <td>0.7867</td>\n",
       "    </tr>\n",
       "    <tr>\n",
       "      <th>4</th>\n",
       "      <td>1.6</td>\n",
       "      <td>1272.0</td>\n",
       "      <td>51.0</td>\n",
       "      <td>6.5</td>\n",
       "      <td>836.0</td>\n",
       "      <td>131.0</td>\n",
       "      <td>1205.0</td>\n",
       "      <td>116.0</td>\n",
       "      <td>1490.0</td>\n",
       "      <td>1110.0</td>\n",
       "      <td>11.2</td>\n",
       "      <td>59.6</td>\n",
       "      <td>0.7888</td>\n",
       "    </tr>\n",
       "    <tr>\n",
       "      <th>5</th>\n",
       "      <td>1.2</td>\n",
       "      <td>1197.0</td>\n",
       "      <td>38.0</td>\n",
       "      <td>4.7</td>\n",
       "      <td>750.0</td>\n",
       "      <td>89.0</td>\n",
       "      <td>1337.0</td>\n",
       "      <td>96.0</td>\n",
       "      <td>1393.0</td>\n",
       "      <td>949.0</td>\n",
       "      <td>11.2</td>\n",
       "      <td>59.2</td>\n",
       "      <td>0.7848</td>\n",
       "    </tr>\n",
       "    <tr>\n",
       "      <th>6</th>\n",
       "      <td>1.2</td>\n",
       "      <td>1185.0</td>\n",
       "      <td>31.0</td>\n",
       "      <td>3.6</td>\n",
       "      <td>690.0</td>\n",
       "      <td>62.0</td>\n",
       "      <td>1462.0</td>\n",
       "      <td>77.0</td>\n",
       "      <td>1333.0</td>\n",
       "      <td>733.0</td>\n",
       "      <td>11.3</td>\n",
       "      <td>56.8</td>\n",
       "      <td>0.7603</td>\n",
       "    </tr>\n",
       "    <tr>\n",
       "      <th>7</th>\n",
       "      <td>1.0</td>\n",
       "      <td>1136.0</td>\n",
       "      <td>31.0</td>\n",
       "      <td>3.3</td>\n",
       "      <td>672.0</td>\n",
       "      <td>62.0</td>\n",
       "      <td>1453.0</td>\n",
       "      <td>76.0</td>\n",
       "      <td>1333.0</td>\n",
       "      <td>730.0</td>\n",
       "      <td>10.7</td>\n",
       "      <td>60.0</td>\n",
       "      <td>0.7702</td>\n",
       "    </tr>\n",
       "    <tr>\n",
       "      <th>8</th>\n",
       "      <td>0.9</td>\n",
       "      <td>1094.0</td>\n",
       "      <td>24.0</td>\n",
       "      <td>2.3</td>\n",
       "      <td>609.0</td>\n",
       "      <td>45.0</td>\n",
       "      <td>1579.0</td>\n",
       "      <td>60.0</td>\n",
       "      <td>1276.0</td>\n",
       "      <td>620.0</td>\n",
       "      <td>10.7</td>\n",
       "      <td>59.7</td>\n",
       "      <td>0.7648</td>\n",
       "    </tr>\n",
       "    <tr>\n",
       "      <th>9</th>\n",
       "      <td>0.6</td>\n",
       "      <td>1010.0</td>\n",
       "      <td>19.0</td>\n",
       "      <td>1.7</td>\n",
       "      <td>561.0</td>\n",
       "      <td>NaN</td>\n",
       "      <td>1705.0</td>\n",
       "      <td>NaN</td>\n",
       "      <td>1235.0</td>\n",
       "      <td>501.0</td>\n",
       "      <td>10.3</td>\n",
       "      <td>60.2</td>\n",
       "      <td>0.7517</td>\n",
       "    </tr>\n",
       "    <tr>\n",
       "      <th>10</th>\n",
       "      <td>nan</td>\n",
       "      <td>1011.0</td>\n",
       "      <td>14.0</td>\n",
       "      <td>1.3</td>\n",
       "      <td>527.0</td>\n",
       "      <td>21.0</td>\n",
       "      <td>1818.0</td>\n",
       "      <td>34.0</td>\n",
       "      <td>1197.0</td>\n",
       "      <td>445.0</td>\n",
       "      <td>10.1</td>\n",
       "      <td>60.5</td>\n",
       "      <td>0.7465</td>\n",
       "    </tr>\n",
       "    <tr>\n",
       "      <th>11</th>\n",
       "      <td>0.7</td>\n",
       "      <td>1066.0</td>\n",
       "      <td>8.0</td>\n",
       "      <td>1.1</td>\n",
       "      <td>512.0</td>\n",
       "      <td>16.0</td>\n",
       "      <td>1918.0</td>\n",
       "      <td>28.0</td>\n",
       "      <td>1182.0</td>\n",
       "      <td>422.0</td>\n",
       "      <td>11.0</td>\n",
       "      <td>56.2</td>\n",
       "      <td>0.7366</td>\n",
       "    </tr>\n",
       "    <tr>\n",
       "      <th>12</th>\n",
       "      <td>0.7</td>\n",
       "      <td>1052.0</td>\n",
       "      <td>16.0</td>\n",
       "      <td>1.6</td>\n",
       "      <td>553.0</td>\n",
       "      <td>34.0</td>\n",
       "      <td>1738.0</td>\n",
       "      <td>48.0</td>\n",
       "      <td>1221.0</td>\n",
       "      <td>472.0</td>\n",
       "      <td>10.5</td>\n",
       "      <td>58.1</td>\n",
       "      <td>0.7353</td>\n",
       "    </tr>\n",
       "    <tr>\n",
       "      <th>13</th>\n",
       "      <td>1.1</td>\n",
       "      <td>1144.0</td>\n",
       "      <td>29.0</td>\n",
       "      <td>3.2</td>\n",
       "      <td>667.0</td>\n",
       "      <td>98.0</td>\n",
       "      <td>1490.0</td>\n",
       "      <td>82.0</td>\n",
       "      <td>1339.0</td>\n",
       "      <td>730.0</td>\n",
       "      <td>10.2</td>\n",
       "      <td>59.6</td>\n",
       "      <td>0.7417</td>\n",
       "    </tr>\n",
       "    <tr>\n",
       "      <th>14</th>\n",
       "      <td>2.0</td>\n",
       "      <td>1333.0</td>\n",
       "      <td>64.0</td>\n",
       "      <td>8.0</td>\n",
       "      <td>900.0</td>\n",
       "      <td>174.0</td>\n",
       "      <td>1136.0</td>\n",
       "      <td>112.0</td>\n",
       "      <td>1517.0</td>\n",
       "      <td>1102.0</td>\n",
       "      <td>10.8</td>\n",
       "      <td>57.4</td>\n",
       "      <td>0.7408</td>\n",
       "    </tr>\n",
       "    <tr>\n",
       "      <th>15</th>\n",
       "      <td>2.2</td>\n",
       "      <td>1351.0</td>\n",
       "      <td>87.0</td>\n",
       "      <td>9.5</td>\n",
       "      <td>960.0</td>\n",
       "      <td>129.0</td>\n",
       "      <td>1079.0</td>\n",
       "      <td>101.0</td>\n",
       "      <td>1583.0</td>\n",
       "      <td>1028.0</td>\n",
       "      <td>10.5</td>\n",
       "      <td>60.6</td>\n",
       "      <td>0.7691</td>\n",
       "    </tr>\n",
       "    <tr>\n",
       "      <th>16</th>\n",
       "      <td>1.7</td>\n",
       "      <td>1233.0</td>\n",
       "      <td>77.0</td>\n",
       "      <td>6.3</td>\n",
       "      <td>827.0</td>\n",
       "      <td>112.0</td>\n",
       "      <td>1218.0</td>\n",
       "      <td>98.0</td>\n",
       "      <td>1446.0</td>\n",
       "      <td>860.0</td>\n",
       "      <td>10.8</td>\n",
       "      <td>58.4</td>\n",
       "      <td>0.7552</td>\n",
       "    </tr>\n",
       "    <tr>\n",
       "      <th>17</th>\n",
       "      <td>1.5</td>\n",
       "      <td>1179.0</td>\n",
       "      <td>43.0</td>\n",
       "      <td>5.0</td>\n",
       "      <td>762.0</td>\n",
       "      <td>95.0</td>\n",
       "      <td>1328.0</td>\n",
       "      <td>92.0</td>\n",
       "      <td>1362.0</td>\n",
       "      <td>671.0</td>\n",
       "      <td>10.5</td>\n",
       "      <td>57.9</td>\n",
       "      <td>0.7352</td>\n",
       "    </tr>\n",
       "    <tr>\n",
       "      <th>18</th>\n",
       "      <td>1.6</td>\n",
       "      <td>1236.0</td>\n",
       "      <td>61.0</td>\n",
       "      <td>5.2</td>\n",
       "      <td>774.0</td>\n",
       "      <td>104.0</td>\n",
       "      <td>1301.0</td>\n",
       "      <td>95.0</td>\n",
       "      <td>1401.0</td>\n",
       "      <td>664.0</td>\n",
       "      <td>9.5</td>\n",
       "      <td>66.8</td>\n",
       "      <td>0.7951</td>\n",
       "    </tr>\n",
       "    <tr>\n",
       "      <th>19</th>\n",
       "      <td>1.9</td>\n",
       "      <td>1286.0</td>\n",
       "      <td>63.0</td>\n",
       "      <td>7.3</td>\n",
       "      <td>869.0</td>\n",
       "      <td>146.0</td>\n",
       "      <td>1162.0</td>\n",
       "      <td>112.0</td>\n",
       "      <td>1537.0</td>\n",
       "      <td>799.0</td>\n",
       "      <td>8.3</td>\n",
       "      <td>76.4</td>\n",
       "      <td>0.8393</td>\n",
       "    </tr>\n",
       "  </tbody>\n",
       "</table>\n",
       "</div>"
      ],
      "text/plain": [
       "   CO(GT)  PT08.S1(CO)  NMHC(GT)  C6H6(GT)  PT08.S2(NMHC)  NOx(GT)  \\\n",
       "0     2.6       1360.0     150.0      11.9         1046.0    166.0   \n",
       "1     2.0       1292.0     112.0       9.4          955.0    103.0   \n",
       "2     2.2       1402.0      88.0       9.0          939.0    131.0   \n",
       "3     2.2       1376.0      80.0       9.2          948.0    172.0   \n",
       "4     1.6       1272.0      51.0       6.5          836.0    131.0   \n",
       "5     1.2       1197.0      38.0       4.7          750.0     89.0   \n",
       "6     1.2       1185.0      31.0       3.6          690.0     62.0   \n",
       "7     1.0       1136.0      31.0       3.3          672.0     62.0   \n",
       "8     0.9       1094.0      24.0       2.3          609.0     45.0   \n",
       "9     0.6       1010.0      19.0       1.7          561.0      NaN   \n",
       "10    nan       1011.0      14.0       1.3          527.0     21.0   \n",
       "11    0.7       1066.0       8.0       1.1          512.0     16.0   \n",
       "12    0.7       1052.0      16.0       1.6          553.0     34.0   \n",
       "13    1.1       1144.0      29.0       3.2          667.0     98.0   \n",
       "14    2.0       1333.0      64.0       8.0          900.0    174.0   \n",
       "15    2.2       1351.0      87.0       9.5          960.0    129.0   \n",
       "16    1.7       1233.0      77.0       6.3          827.0    112.0   \n",
       "17    1.5       1179.0      43.0       5.0          762.0     95.0   \n",
       "18    1.6       1236.0      61.0       5.2          774.0    104.0   \n",
       "19    1.9       1286.0      63.0       7.3          869.0    146.0   \n",
       "\n",
       "    PT08.S3(NOx)  NO2(GT)  PT08.S4(NO2)  PT08.S5(O3)     T    RH      AH  \n",
       "0         1056.0    113.0        1692.0       1268.0  13.6  48.9  0.7578  \n",
       "1         1174.0     92.0        1559.0        972.0  13.3  47.7  0.7255  \n",
       "2         1140.0    114.0        1555.0       1074.0  11.9  54.0  0.7502  \n",
       "3         1092.0    122.0        1584.0       1203.0  11.0  60.0  0.7867  \n",
       "4         1205.0    116.0        1490.0       1110.0  11.2  59.6  0.7888  \n",
       "5         1337.0     96.0        1393.0        949.0  11.2  59.2  0.7848  \n",
       "6         1462.0     77.0        1333.0        733.0  11.3  56.8  0.7603  \n",
       "7         1453.0     76.0        1333.0        730.0  10.7  60.0  0.7702  \n",
       "8         1579.0     60.0        1276.0        620.0  10.7  59.7  0.7648  \n",
       "9         1705.0      NaN        1235.0        501.0  10.3  60.2  0.7517  \n",
       "10        1818.0     34.0        1197.0        445.0  10.1  60.5  0.7465  \n",
       "11        1918.0     28.0        1182.0        422.0  11.0  56.2  0.7366  \n",
       "12        1738.0     48.0        1221.0        472.0  10.5  58.1  0.7353  \n",
       "13        1490.0     82.0        1339.0        730.0  10.2  59.6  0.7417  \n",
       "14        1136.0    112.0        1517.0       1102.0  10.8  57.4  0.7408  \n",
       "15        1079.0    101.0        1583.0       1028.0  10.5  60.6  0.7691  \n",
       "16        1218.0     98.0        1446.0        860.0  10.8  58.4  0.7552  \n",
       "17        1328.0     92.0        1362.0        671.0  10.5  57.9  0.7352  \n",
       "18        1301.0     95.0        1401.0        664.0   9.5  66.8  0.7951  \n",
       "19        1162.0    112.0        1537.0        799.0   8.3  76.4  0.8393  "
      ]
     },
     "execution_count": 161,
     "metadata": {},
     "output_type": "execute_result"
    }
   ],
   "source": [
    "df.head(20) "
   ]
  },
  {
   "cell_type": "markdown",
   "id": "6bb64a90",
   "metadata": {},
   "source": [
    "### Impute the nan values"
   ]
  },
  {
   "cell_type": "code",
   "execution_count": 162,
   "id": "679dbad3",
   "metadata": {},
   "outputs": [],
   "source": [
    "imputer = SimpleImputer(strategy='mean')"
   ]
  },
  {
   "cell_type": "code",
   "execution_count": 163,
   "id": "d82a57d1",
   "metadata": {},
   "outputs": [],
   "source": [
    "df_new = imputer.fit_transform(df)"
   ]
  },
  {
   "cell_type": "code",
   "execution_count": 164,
   "id": "04836ddb",
   "metadata": {},
   "outputs": [],
   "source": [
    "df_new = pd.DataFrame(df_new)"
   ]
  },
  {
   "cell_type": "code",
   "execution_count": 165,
   "id": "98f8814a",
   "metadata": {},
   "outputs": [],
   "source": [
    "df_new.columns = feature_list"
   ]
  },
  {
   "cell_type": "code",
   "execution_count": 248,
   "id": "0735b80a",
   "metadata": {},
   "outputs": [
    {
     "data": {
      "text/html": [
       "<div>\n",
       "<style scoped>\n",
       "    .dataframe tbody tr th:only-of-type {\n",
       "        vertical-align: middle;\n",
       "    }\n",
       "\n",
       "    .dataframe tbody tr th {\n",
       "        vertical-align: top;\n",
       "    }\n",
       "\n",
       "    .dataframe thead th {\n",
       "        text-align: right;\n",
       "    }\n",
       "</style>\n",
       "<table border=\"1\" class=\"dataframe\">\n",
       "  <thead>\n",
       "    <tr style=\"text-align: right;\">\n",
       "      <th></th>\n",
       "      <th>CO(GT)</th>\n",
       "      <th>NMHC(GT)</th>\n",
       "      <th>C6H6(GT)</th>\n",
       "      <th>NOx(GT)</th>\n",
       "      <th>NO2(GT)</th>\n",
       "    </tr>\n",
       "  </thead>\n",
       "  <tbody>\n",
       "    <tr>\n",
       "      <th>0</th>\n",
       "      <td>2.6</td>\n",
       "      <td>150.0</td>\n",
       "      <td>11.9</td>\n",
       "      <td>166.000000</td>\n",
       "      <td>113.000000</td>\n",
       "    </tr>\n",
       "    <tr>\n",
       "      <th>1</th>\n",
       "      <td>2.0</td>\n",
       "      <td>112.0</td>\n",
       "      <td>9.4</td>\n",
       "      <td>103.000000</td>\n",
       "      <td>92.000000</td>\n",
       "    </tr>\n",
       "    <tr>\n",
       "      <th>2</th>\n",
       "      <td>2.2</td>\n",
       "      <td>88.0</td>\n",
       "      <td>9.0</td>\n",
       "      <td>131.000000</td>\n",
       "      <td>114.000000</td>\n",
       "    </tr>\n",
       "    <tr>\n",
       "      <th>3</th>\n",
       "      <td>2.2</td>\n",
       "      <td>80.0</td>\n",
       "      <td>9.2</td>\n",
       "      <td>172.000000</td>\n",
       "      <td>122.000000</td>\n",
       "    </tr>\n",
       "    <tr>\n",
       "      <th>4</th>\n",
       "      <td>1.6</td>\n",
       "      <td>51.0</td>\n",
       "      <td>6.5</td>\n",
       "      <td>131.000000</td>\n",
       "      <td>116.000000</td>\n",
       "    </tr>\n",
       "    <tr>\n",
       "      <th>5</th>\n",
       "      <td>1.2</td>\n",
       "      <td>38.0</td>\n",
       "      <td>4.7</td>\n",
       "      <td>89.000000</td>\n",
       "      <td>96.000000</td>\n",
       "    </tr>\n",
       "    <tr>\n",
       "      <th>6</th>\n",
       "      <td>1.2</td>\n",
       "      <td>31.0</td>\n",
       "      <td>3.6</td>\n",
       "      <td>62.000000</td>\n",
       "      <td>77.000000</td>\n",
       "    </tr>\n",
       "    <tr>\n",
       "      <th>7</th>\n",
       "      <td>1.0</td>\n",
       "      <td>31.0</td>\n",
       "      <td>3.3</td>\n",
       "      <td>62.000000</td>\n",
       "      <td>76.000000</td>\n",
       "    </tr>\n",
       "    <tr>\n",
       "      <th>8</th>\n",
       "      <td>0.9</td>\n",
       "      <td>24.0</td>\n",
       "      <td>2.3</td>\n",
       "      <td>45.000000</td>\n",
       "      <td>60.000000</td>\n",
       "    </tr>\n",
       "    <tr>\n",
       "      <th>9</th>\n",
       "      <td>0.6</td>\n",
       "      <td>19.0</td>\n",
       "      <td>1.7</td>\n",
       "      <td>246.896735</td>\n",
       "      <td>113.091251</td>\n",
       "    </tr>\n",
       "  </tbody>\n",
       "</table>\n",
       "</div>"
      ],
      "text/plain": [
       "   CO(GT)  NMHC(GT)  C6H6(GT)     NOx(GT)     NO2(GT)\n",
       "0     2.6     150.0      11.9  166.000000  113.000000\n",
       "1     2.0     112.0       9.4  103.000000   92.000000\n",
       "2     2.2      88.0       9.0  131.000000  114.000000\n",
       "3     2.2      80.0       9.2  172.000000  122.000000\n",
       "4     1.6      51.0       6.5  131.000000  116.000000\n",
       "5     1.2      38.0       4.7   89.000000   96.000000\n",
       "6     1.2      31.0       3.6   62.000000   77.000000\n",
       "7     1.0      31.0       3.3   62.000000   76.000000\n",
       "8     0.9      24.0       2.3   45.000000   60.000000\n",
       "9     0.6      19.0       1.7  246.896735  113.091251"
      ]
     },
     "execution_count": 248,
     "metadata": {},
     "output_type": "execute_result"
    }
   ],
   "source": [
    "df_new.head(10)"
   ]
  },
  {
   "cell_type": "code",
   "execution_count": 247,
   "id": "55a4d152",
   "metadata": {},
   "outputs": [],
   "source": [
    "df_new = df_new.iloc[:, [0, 2, 3, 5, 7]]"
   ]
  },
  {
   "cell_type": "code",
   "execution_count": 168,
   "id": "364c0472",
   "metadata": {},
   "outputs": [
    {
     "data": {
      "text/plain": [
       "2.15275     1683\n",
       "1.00000      305\n",
       "1.40000      279\n",
       "1.60000      275\n",
       "1.50000      273\n",
       "            ... \n",
       "9.50000        1\n",
       "11.50000       1\n",
       "11.90000       1\n",
       "9.20000        1\n",
       "9.90000        1\n",
       "Name: CO(GT), Length: 97, dtype: int64"
      ]
     },
     "execution_count": 168,
     "metadata": {},
     "output_type": "execute_result"
    }
   ],
   "source": [
    "df_new['CO(GT)'].value_counts()"
   ]
  },
  {
   "cell_type": "code",
   "execution_count": 249,
   "id": "bd9149e7",
   "metadata": {},
   "outputs": [
    {
     "name": "stderr",
     "output_type": "stream",
     "text": [
      "d:\\downloads\\softwares\\anaconda\\envs\\ml-venv\\lib\\site-packages\\ipykernel_launcher.py:1: SettingWithCopyWarning: \n",
      "A value is trying to be set on a copy of a slice from a DataFrame.\n",
      "Try using .loc[row_indexer,col_indexer] = value instead\n",
      "\n",
      "See the caveats in the documentation: https://pandas.pydata.org/pandas-docs/stable/user_guide/indexing.html#returning-a-view-versus-a-copy\n",
      "  \"\"\"Entry point for launching an IPython kernel.\n"
     ]
    }
   ],
   "source": [
    "df_new['AQI'] = df_new.sum(axis=1)/len(df_new.columns)"
   ]
  },
  {
   "cell_type": "code",
   "execution_count": 250,
   "id": "5b555430",
   "metadata": {},
   "outputs": [
    {
     "name": "stderr",
     "output_type": "stream",
     "text": [
      "d:\\downloads\\softwares\\anaconda\\envs\\ml-venv\\lib\\site-packages\\ipykernel_launcher.py:1: SettingWithCopyWarning: \n",
      "A value is trying to be set on a copy of a slice from a DataFrame.\n",
      "Try using .loc[row_indexer,col_indexer] = value instead\n",
      "\n",
      "See the caveats in the documentation: https://pandas.pydata.org/pandas-docs/stable/user_guide/indexing.html#returning-a-view-versus-a-copy\n",
      "  \"\"\"Entry point for launching an IPython kernel.\n"
     ]
    }
   ],
   "source": [
    "df_new['AQI'] = df_new['AQI'].apply(lambda x: int(x))"
   ]
  },
  {
   "cell_type": "code",
   "execution_count": 251,
   "id": "9756da49",
   "metadata": {},
   "outputs": [
    {
     "data": {
      "text/html": [
       "<div>\n",
       "<style scoped>\n",
       "    .dataframe tbody tr th:only-of-type {\n",
       "        vertical-align: middle;\n",
       "    }\n",
       "\n",
       "    .dataframe tbody tr th {\n",
       "        vertical-align: top;\n",
       "    }\n",
       "\n",
       "    .dataframe thead th {\n",
       "        text-align: right;\n",
       "    }\n",
       "</style>\n",
       "<table border=\"1\" class=\"dataframe\">\n",
       "  <thead>\n",
       "    <tr style=\"text-align: right;\">\n",
       "      <th></th>\n",
       "      <th>CO(GT)</th>\n",
       "      <th>NMHC(GT)</th>\n",
       "      <th>C6H6(GT)</th>\n",
       "      <th>NOx(GT)</th>\n",
       "      <th>NO2(GT)</th>\n",
       "      <th>AQI</th>\n",
       "    </tr>\n",
       "  </thead>\n",
       "  <tbody>\n",
       "    <tr>\n",
       "      <th>0</th>\n",
       "      <td>2.6</td>\n",
       "      <td>150.0</td>\n",
       "      <td>11.9</td>\n",
       "      <td>166.0</td>\n",
       "      <td>113.0</td>\n",
       "      <td>88</td>\n",
       "    </tr>\n",
       "    <tr>\n",
       "      <th>1</th>\n",
       "      <td>2.0</td>\n",
       "      <td>112.0</td>\n",
       "      <td>9.4</td>\n",
       "      <td>103.0</td>\n",
       "      <td>92.0</td>\n",
       "      <td>63</td>\n",
       "    </tr>\n",
       "    <tr>\n",
       "      <th>2</th>\n",
       "      <td>2.2</td>\n",
       "      <td>88.0</td>\n",
       "      <td>9.0</td>\n",
       "      <td>131.0</td>\n",
       "      <td>114.0</td>\n",
       "      <td>68</td>\n",
       "    </tr>\n",
       "    <tr>\n",
       "      <th>3</th>\n",
       "      <td>2.2</td>\n",
       "      <td>80.0</td>\n",
       "      <td>9.2</td>\n",
       "      <td>172.0</td>\n",
       "      <td>122.0</td>\n",
       "      <td>77</td>\n",
       "    </tr>\n",
       "    <tr>\n",
       "      <th>4</th>\n",
       "      <td>1.6</td>\n",
       "      <td>51.0</td>\n",
       "      <td>6.5</td>\n",
       "      <td>131.0</td>\n",
       "      <td>116.0</td>\n",
       "      <td>61</td>\n",
       "    </tr>\n",
       "  </tbody>\n",
       "</table>\n",
       "</div>"
      ],
      "text/plain": [
       "   CO(GT)  NMHC(GT)  C6H6(GT)  NOx(GT)  NO2(GT)  AQI\n",
       "0     2.6     150.0      11.9    166.0    113.0   88\n",
       "1     2.0     112.0       9.4    103.0     92.0   63\n",
       "2     2.2      88.0       9.0    131.0    114.0   68\n",
       "3     2.2      80.0       9.2    172.0    122.0   77\n",
       "4     1.6      51.0       6.5    131.0    116.0   61"
      ]
     },
     "execution_count": 251,
     "metadata": {},
     "output_type": "execute_result"
    }
   ],
   "source": [
    "df_new.head()"
   ]
  },
  {
   "cell_type": "code",
   "execution_count": 253,
   "id": "4f9323f8",
   "metadata": {},
   "outputs": [
    {
     "data": {
      "text/html": [
       "<div>\n",
       "<style scoped>\n",
       "    .dataframe tbody tr th:only-of-type {\n",
       "        vertical-align: middle;\n",
       "    }\n",
       "\n",
       "    .dataframe tbody tr th {\n",
       "        vertical-align: top;\n",
       "    }\n",
       "\n",
       "    .dataframe thead th {\n",
       "        text-align: right;\n",
       "    }\n",
       "</style>\n",
       "<table border=\"1\" class=\"dataframe\">\n",
       "  <thead>\n",
       "    <tr style=\"text-align: right;\">\n",
       "      <th></th>\n",
       "      <th>CO(GT)</th>\n",
       "      <th>NMHC(GT)</th>\n",
       "      <th>C6H6(GT)</th>\n",
       "      <th>NOx(GT)</th>\n",
       "      <th>NO2(GT)</th>\n",
       "      <th>AQI</th>\n",
       "    </tr>\n",
       "  </thead>\n",
       "  <tbody>\n",
       "    <tr>\n",
       "      <th>6672</th>\n",
       "      <td>9.90000</td>\n",
       "      <td>218.811816</td>\n",
       "      <td>50.8</td>\n",
       "      <td>1479.0</td>\n",
       "      <td>269.0</td>\n",
       "      <td>405</td>\n",
       "    </tr>\n",
       "    <tr>\n",
       "      <th>6264</th>\n",
       "      <td>10.10000</td>\n",
       "      <td>218.811816</td>\n",
       "      <td>45.2</td>\n",
       "      <td>1389.0</td>\n",
       "      <td>255.0</td>\n",
       "      <td>383</td>\n",
       "    </tr>\n",
       "    <tr>\n",
       "      <th>6193</th>\n",
       "      <td>11.90000</td>\n",
       "      <td>218.811816</td>\n",
       "      <td>50.6</td>\n",
       "      <td>1389.0</td>\n",
       "      <td>220.0</td>\n",
       "      <td>378</td>\n",
       "    </tr>\n",
       "    <tr>\n",
       "      <th>6192</th>\n",
       "      <td>10.20000</td>\n",
       "      <td>218.811816</td>\n",
       "      <td>49.5</td>\n",
       "      <td>1369.0</td>\n",
       "      <td>227.0</td>\n",
       "      <td>374</td>\n",
       "    </tr>\n",
       "    <tr>\n",
       "      <th>6169</th>\n",
       "      <td>6.90000</td>\n",
       "      <td>218.811816</td>\n",
       "      <td>37.6</td>\n",
       "      <td>1345.0</td>\n",
       "      <td>245.0</td>\n",
       "      <td>370</td>\n",
       "    </tr>\n",
       "    <tr>\n",
       "      <th>...</th>\n",
       "      <td>...</td>\n",
       "      <td>...</td>\n",
       "      <td>...</td>\n",
       "      <td>...</td>\n",
       "      <td>...</td>\n",
       "      <td>...</td>\n",
       "    </tr>\n",
       "    <tr>\n",
       "      <th>11</th>\n",
       "      <td>0.70000</td>\n",
       "      <td>8.000000</td>\n",
       "      <td>1.1</td>\n",
       "      <td>16.0</td>\n",
       "      <td>28.0</td>\n",
       "      <td>10</td>\n",
       "    </tr>\n",
       "    <tr>\n",
       "      <th>347</th>\n",
       "      <td>0.50000</td>\n",
       "      <td>21.000000</td>\n",
       "      <td>0.6</td>\n",
       "      <td>12.0</td>\n",
       "      <td>20.0</td>\n",
       "      <td>10</td>\n",
       "    </tr>\n",
       "    <tr>\n",
       "      <th>778</th>\n",
       "      <td>0.30000</td>\n",
       "      <td>9.000000</td>\n",
       "      <td>0.7</td>\n",
       "      <td>16.0</td>\n",
       "      <td>25.0</td>\n",
       "      <td>10</td>\n",
       "    </tr>\n",
       "    <tr>\n",
       "      <th>299</th>\n",
       "      <td>0.30000</td>\n",
       "      <td>19.000000</td>\n",
       "      <td>0.6</td>\n",
       "      <td>13.0</td>\n",
       "      <td>22.0</td>\n",
       "      <td>10</td>\n",
       "    </tr>\n",
       "    <tr>\n",
       "      <th>1114</th>\n",
       "      <td>2.15275</td>\n",
       "      <td>17.000000</td>\n",
       "      <td>0.6</td>\n",
       "      <td>10.0</td>\n",
       "      <td>17.0</td>\n",
       "      <td>9</td>\n",
       "    </tr>\n",
       "  </tbody>\n",
       "</table>\n",
       "<p>9357 rows × 6 columns</p>\n",
       "</div>"
      ],
      "text/plain": [
       "        CO(GT)    NMHC(GT)  C6H6(GT)  NOx(GT)  NO2(GT)  AQI\n",
       "6672   9.90000  218.811816      50.8   1479.0    269.0  405\n",
       "6264  10.10000  218.811816      45.2   1389.0    255.0  383\n",
       "6193  11.90000  218.811816      50.6   1389.0    220.0  378\n",
       "6192  10.20000  218.811816      49.5   1369.0    227.0  374\n",
       "6169   6.90000  218.811816      37.6   1345.0    245.0  370\n",
       "...        ...         ...       ...      ...      ...  ...\n",
       "11     0.70000    8.000000       1.1     16.0     28.0   10\n",
       "347    0.50000   21.000000       0.6     12.0     20.0   10\n",
       "778    0.30000    9.000000       0.7     16.0     25.0   10\n",
       "299    0.30000   19.000000       0.6     13.0     22.0   10\n",
       "1114   2.15275   17.000000       0.6     10.0     17.0    9\n",
       "\n",
       "[9357 rows x 6 columns]"
      ]
     },
     "execution_count": 253,
     "metadata": {},
     "output_type": "execute_result"
    }
   ],
   "source": [
    "df_new.sort_values(by='AQI', ascending=False) "
   ]
  },
  {
   "cell_type": "code",
   "execution_count": 256,
   "id": "afb27ea7",
   "metadata": {},
   "outputs": [],
   "source": [
    "def aqi_bin(x):\n",
    "    if ((x>=0) & (x<=50)):\n",
    "        return 'Good'\n",
    "    elif ((x>=51) & (x<=100)):\n",
    "        return 'Moderate'\n",
    "    elif ((x>=101) & (x<=150)):\n",
    "        return 'Unhealthy for Sensitive groups'\n",
    "    elif ((x>=151) & (x<=200)):\n",
    "        return 'Unhealthy'\n",
    "    elif ((x>=201) & (x<=300)):\n",
    "        return 'Very Unhealthy'\n",
    "    else:\n",
    "        return 'Hazardous'"
   ]
  },
  {
   "cell_type": "code",
   "execution_count": 257,
   "id": "aab1ce6f",
   "metadata": {},
   "outputs": [
    {
     "name": "stderr",
     "output_type": "stream",
     "text": [
      "d:\\downloads\\softwares\\anaconda\\envs\\ml-venv\\lib\\site-packages\\ipykernel_launcher.py:1: SettingWithCopyWarning: \n",
      "A value is trying to be set on a copy of a slice from a DataFrame.\n",
      "Try using .loc[row_indexer,col_indexer] = value instead\n",
      "\n",
      "See the caveats in the documentation: https://pandas.pydata.org/pandas-docs/stable/user_guide/indexing.html#returning-a-view-versus-a-copy\n",
      "  \"\"\"Entry point for launching an IPython kernel.\n"
     ]
    }
   ],
   "source": [
    "df_new['AQI Category'] = df_new['AQI'].apply(lambda x: aqi_bin(x))"
   ]
  },
  {
   "cell_type": "code",
   "execution_count": 437,
   "id": "4568217c",
   "metadata": {},
   "outputs": [
    {
     "data": {
      "text/html": [
       "<div>\n",
       "<style scoped>\n",
       "    .dataframe tbody tr th:only-of-type {\n",
       "        vertical-align: middle;\n",
       "    }\n",
       "\n",
       "    .dataframe tbody tr th {\n",
       "        vertical-align: top;\n",
       "    }\n",
       "\n",
       "    .dataframe thead th {\n",
       "        text-align: right;\n",
       "    }\n",
       "</style>\n",
       "<table border=\"1\" class=\"dataframe\">\n",
       "  <thead>\n",
       "    <tr style=\"text-align: right;\">\n",
       "      <th></th>\n",
       "      <th>CO(GT)</th>\n",
       "      <th>NMHC(GT)</th>\n",
       "      <th>C6H6(GT)</th>\n",
       "      <th>NOx(GT)</th>\n",
       "      <th>NO2(GT)</th>\n",
       "      <th>AQI</th>\n",
       "      <th>AQI Category</th>\n",
       "    </tr>\n",
       "  </thead>\n",
       "  <tbody>\n",
       "    <tr>\n",
       "      <th>0</th>\n",
       "      <td>2.6</td>\n",
       "      <td>150.0</td>\n",
       "      <td>11.9</td>\n",
       "      <td>166.0</td>\n",
       "      <td>113.0</td>\n",
       "      <td>88</td>\n",
       "      <td>Moderate</td>\n",
       "    </tr>\n",
       "    <tr>\n",
       "      <th>1</th>\n",
       "      <td>2.0</td>\n",
       "      <td>112.0</td>\n",
       "      <td>9.4</td>\n",
       "      <td>103.0</td>\n",
       "      <td>92.0</td>\n",
       "      <td>63</td>\n",
       "      <td>Moderate</td>\n",
       "    </tr>\n",
       "    <tr>\n",
       "      <th>2</th>\n",
       "      <td>2.2</td>\n",
       "      <td>88.0</td>\n",
       "      <td>9.0</td>\n",
       "      <td>131.0</td>\n",
       "      <td>114.0</td>\n",
       "      <td>68</td>\n",
       "      <td>Moderate</td>\n",
       "    </tr>\n",
       "    <tr>\n",
       "      <th>3</th>\n",
       "      <td>2.2</td>\n",
       "      <td>80.0</td>\n",
       "      <td>9.2</td>\n",
       "      <td>172.0</td>\n",
       "      <td>122.0</td>\n",
       "      <td>77</td>\n",
       "      <td>Moderate</td>\n",
       "    </tr>\n",
       "    <tr>\n",
       "      <th>4</th>\n",
       "      <td>1.6</td>\n",
       "      <td>51.0</td>\n",
       "      <td>6.5</td>\n",
       "      <td>131.0</td>\n",
       "      <td>116.0</td>\n",
       "      <td>61</td>\n",
       "      <td>Moderate</td>\n",
       "    </tr>\n",
       "  </tbody>\n",
       "</table>\n",
       "</div>"
      ],
      "text/plain": [
       "   CO(GT)  NMHC(GT)  C6H6(GT)  NOx(GT)  NO2(GT)  AQI AQI Category\n",
       "0     2.6     150.0      11.9    166.0    113.0   88     Moderate\n",
       "1     2.0     112.0       9.4    103.0     92.0   63     Moderate\n",
       "2     2.2      88.0       9.0    131.0    114.0   68     Moderate\n",
       "3     2.2      80.0       9.2    172.0    122.0   77     Moderate\n",
       "4     1.6      51.0       6.5    131.0    116.0   61     Moderate"
      ]
     },
     "execution_count": 437,
     "metadata": {},
     "output_type": "execute_result"
    }
   ],
   "source": [
    "df_new.head(5)"
   ]
  },
  {
   "cell_type": "code",
   "execution_count": 259,
   "id": "f53d0b33",
   "metadata": {},
   "outputs": [
    {
     "data": {
      "text/plain": [
       "Unhealthy for Sensitive groups    4027\n",
       "Moderate                          3354\n",
       "Unhealthy                         1018\n",
       "Very Unhealthy                     633\n",
       "Good                               258\n",
       "Hazardous                           67\n",
       "Name: AQI Category, dtype: int64"
      ]
     },
     "execution_count": 259,
     "metadata": {},
     "output_type": "execute_result"
    }
   ],
   "source": [
    "df_new['AQI Category'].value_counts()"
   ]
  },
  {
   "cell_type": "code",
   "execution_count": 480,
   "id": "75fa34c6",
   "metadata": {},
   "outputs": [],
   "source": [
    "df_imbalance = df_new['AQI Category'].value_counts()"
   ]
  },
  {
   "cell_type": "code",
   "execution_count": 481,
   "id": "96b85cf3",
   "metadata": {},
   "outputs": [
    {
     "data": {
      "text/html": [
       "<div>\n",
       "<style scoped>\n",
       "    .dataframe tbody tr th:only-of-type {\n",
       "        vertical-align: middle;\n",
       "    }\n",
       "\n",
       "    .dataframe tbody tr th {\n",
       "        vertical-align: top;\n",
       "    }\n",
       "\n",
       "    .dataframe thead th {\n",
       "        text-align: right;\n",
       "    }\n",
       "</style>\n",
       "<table border=\"1\" class=\"dataframe\">\n",
       "  <thead>\n",
       "    <tr style=\"text-align: right;\">\n",
       "      <th></th>\n",
       "      <th>Class</th>\n",
       "      <th>Instances</th>\n",
       "    </tr>\n",
       "  </thead>\n",
       "  <tbody>\n",
       "    <tr>\n",
       "      <th>0</th>\n",
       "      <td>Unhealthy for Sensitive groups</td>\n",
       "      <td>4027</td>\n",
       "    </tr>\n",
       "    <tr>\n",
       "      <th>1</th>\n",
       "      <td>Moderate</td>\n",
       "      <td>3354</td>\n",
       "    </tr>\n",
       "    <tr>\n",
       "      <th>2</th>\n",
       "      <td>Unhealthy</td>\n",
       "      <td>1018</td>\n",
       "    </tr>\n",
       "    <tr>\n",
       "      <th>3</th>\n",
       "      <td>Very Unhealthy</td>\n",
       "      <td>633</td>\n",
       "    </tr>\n",
       "    <tr>\n",
       "      <th>4</th>\n",
       "      <td>Good</td>\n",
       "      <td>258</td>\n",
       "    </tr>\n",
       "    <tr>\n",
       "      <th>5</th>\n",
       "      <td>Hazardous</td>\n",
       "      <td>67</td>\n",
       "    </tr>\n",
       "  </tbody>\n",
       "</table>\n",
       "</div>"
      ],
      "text/plain": [
       "                            Class  Instances\n",
       "0  Unhealthy for Sensitive groups       4027\n",
       "1                        Moderate       3354\n",
       "2                       Unhealthy       1018\n",
       "3                  Very Unhealthy        633\n",
       "4                            Good        258\n",
       "5                       Hazardous         67"
      ]
     },
     "execution_count": 481,
     "metadata": {},
     "output_type": "execute_result"
    }
   ],
   "source": [
    "df_imbalance = pd.DataFrame(df_imbalance).reset_index()\n",
    "df_imbalance.columns = ['Class', 'Instances']\n",
    "df_imbalance"
   ]
  },
  {
   "cell_type": "code",
   "execution_count": 491,
   "id": "624fe26f",
   "metadata": {},
   "outputs": [
    {
     "data": {
      "image/png": "[encoded data removed]",
      "text/plain": [
       "<Figure size 1080x360 with 1 Axes>"
      ]
     },
     "metadata": {
      "needs_background": "light"
     },
     "output_type": "display_data"
    }
   ],
   "source": [
    "plt.subplots(figsize=(15,5))\n",
    "sns.barplot(x='Class',y='Instances',data=df_imbalance)\n",
    "plt.ylabel('Instances', fontsize=15)\n",
    "plt.xticks(rotation=0,fontsize=12)\n",
    "plt.xlabel('Class', fontsize=15)\n",
    "plt.title('Class Imbalance', fontsize=20)\n",
    "plt.show()"
   ]
  },
  {
   "cell_type": "code",
   "execution_count": 493,
   "id": "2734d8b4",
   "metadata": {},
   "outputs": [
    {
     "data": {
      "image/png": "[encoded data removed]",
      "text/plain": [
       "<Figure size 1080x360 with 2 Axes>"
      ]
     },
     "metadata": {
      "needs_background": "light"
     },
     "output_type": "display_data"
    }
   ],
   "source": [
    "import matplotlib.pyplot as plt\n",
    "\n",
    "fig = plt.figure(figsize = (15, 5))\n",
    "sns.heatmap(df_new.corr(), annot=True)\n",
    "plt.title('Pearson Correlation Heatmap')\n",
    "plt.show()"
   ]
  },
  {
   "cell_type": "code",
   "execution_count": null,
   "id": "c742bdfd",
   "metadata": {},
   "outputs": [],
   "source": []
  },
  {
   "cell_type": "code",
   "execution_count": null,
   "id": "681a0ef5",
   "metadata": {},
   "outputs": [],
   "source": []
  },
  {
   "cell_type": "code",
   "execution_count": 348,
   "id": "8c234a27",
   "metadata": {},
   "outputs": [],
   "source": [
    "from sklearn.linear_model import LinearRegression\n",
    "from sklearn.ensemble import RandomForestRegressor, RandomForestClassifier\n",
    "from sklearn.svm import SVR\n",
    "from sklearn.model_selection import train_test_split\n",
    "from sklearn.preprocessing import StandardScaler, LabelEncoder\n",
    "\n",
    "from sklearn.metrics import r2_score, accuracy_score, f1_score, auc, roc_auc_score, classification_report"
   ]
  },
  {
   "cell_type": "code",
   "execution_count": 317,
   "id": "37132adf",
   "metadata": {},
   "outputs": [],
   "source": [
    "rfc = RandomForestClassifier(n_estimators=100, max_depth=3)\n",
    "\n",
    "scaler = StandardScaler()\n",
    "encoder = LabelEncoder()"
   ]
  },
  {
   "cell_type": "code",
   "execution_count": 370,
   "id": "e52792b2",
   "metadata": {},
   "outputs": [],
   "source": [
    "X = df_new.iloc[:, : -2]\n",
    "y = df_new.iloc[:, -1]\n",
    "# y = encoder.fit_transform(y)"
   ]
  },
  {
   "cell_type": "code",
   "execution_count": 371,
   "id": "25e8bd3c",
   "metadata": {},
   "outputs": [],
   "source": [
    "X_scaled = scaler.fit_transform(X)"
   ]
  },
  {
   "cell_type": "code",
   "execution_count": 373,
   "id": "ffe3988f",
   "metadata": {},
   "outputs": [],
   "source": [
    "xtrain, xtest, ytrain, ytest = train_test_split(X_scaled, y, test_size=0.3, random_state=0)"
   ]
  },
  {
   "cell_type": "code",
   "execution_count": 365,
   "id": "69ad0fbc",
   "metadata": {},
   "outputs": [
    {
     "data": {
      "text/plain": [
       "RandomForestClassifier(max_depth=3)"
      ]
     },
     "execution_count": 365,
     "metadata": {},
     "output_type": "execute_result"
    }
   ],
   "source": [
    "rfc.fit(xtrain, ytrain)"
   ]
  },
  {
   "cell_type": "code",
   "execution_count": 366,
   "id": "e972bbac",
   "metadata": {},
   "outputs": [],
   "source": [
    "pred = rfc.predict(xtest)"
   ]
  },
  {
   "cell_type": "code",
   "execution_count": 358,
   "id": "dd738c3b",
   "metadata": {},
   "outputs": [
    {
     "data": {
      "text/plain": [
       "0.9106837606837607"
      ]
     },
     "execution_count": 358,
     "metadata": {},
     "output_type": "execute_result"
    }
   ],
   "source": [
    "accuracy_score(ytest, pred)"
   ]
  },
  {
   "cell_type": "code",
   "execution_count": 367,
   "id": "1a47d1f2",
   "metadata": {
    "scrolled": false
   },
   "outputs": [
    {
     "name": "stdout",
     "output_type": "stream",
     "text": [
      "                                precision    recall  f1-score   support\n",
      "\n",
      "                          Good       1.00      0.77      0.87        69\n",
      "                     Hazardous       0.00      0.00      0.00        18\n",
      "                      Moderate       0.97      0.94      0.96       852\n",
      "                     Unhealthy       0.85      0.74      0.79       241\n",
      "Unhealthy for Sensitive groups       0.89      0.98      0.93       998\n",
      "                Very Unhealthy       0.84      0.73      0.78       162\n",
      "\n",
      "                      accuracy                           0.91      2340\n",
      "                     macro avg       0.76      0.69      0.72      2340\n",
      "                  weighted avg       0.91      0.91      0.91      2340\n",
      "\n"
     ]
    },
    {
     "name": "stderr",
     "output_type": "stream",
     "text": [
      "d:\\downloads\\softwares\\anaconda\\envs\\ml-venv\\lib\\site-packages\\sklearn\\metrics\\_classification.py:1248: UndefinedMetricWarning: Precision and F-score are ill-defined and being set to 0.0 in labels with no predicted samples. Use `zero_division` parameter to control this behavior.\n",
      "  _warn_prf(average, modifier, msg_start, len(result))\n",
      "d:\\downloads\\softwares\\anaconda\\envs\\ml-venv\\lib\\site-packages\\sklearn\\metrics\\_classification.py:1248: UndefinedMetricWarning: Precision and F-score are ill-defined and being set to 0.0 in labels with no predicted samples. Use `zero_division` parameter to control this behavior.\n",
      "  _warn_prf(average, modifier, msg_start, len(result))\n",
      "d:\\downloads\\softwares\\anaconda\\envs\\ml-venv\\lib\\site-packages\\sklearn\\metrics\\_classification.py:1248: UndefinedMetricWarning: Precision and F-score are ill-defined and being set to 0.0 in labels with no predicted samples. Use `zero_division` parameter to control this behavior.\n",
      "  _warn_prf(average, modifier, msg_start, len(result))\n"
     ]
    }
   ],
   "source": [
    "print(classification_report(ytest, pred))"
   ]
  },
  {
   "cell_type": "code",
   "execution_count": 422,
   "id": "de815d76",
   "metadata": {},
   "outputs": [
    {
     "data": {
      "text/plain": [
       "0.9866908194006228"
      ]
     },
     "execution_count": 422,
     "metadata": {},
     "output_type": "execute_result"
    }
   ],
   "source": [
    "roc_auc_score(ytest, rfc.predict_proba(xtest), multi_class='ovr')"
   ]
  },
  {
   "cell_type": "code",
   "execution_count": 369,
   "id": "96a7be9f",
   "metadata": {},
   "outputs": [
    {
     "data": {
      "text/plain": [
       "0.9070292087720445"
      ]
     },
     "execution_count": 369,
     "metadata": {},
     "output_type": "execute_result"
    }
   ],
   "source": [
    "f1_score(ytest, pred, average='weighted')"
   ]
  },
  {
   "cell_type": "markdown",
   "id": "6d389572",
   "metadata": {},
   "source": [
    "- Problem Statement (Show images)\n",
    "- Data collection (Source: https://archive.ics.uci.edu/ml/datasets/Air+quality)\n",
    "- Feature selection and engineering (https://bazallergy.com/understand-the-basics-of-the-air-quality-index/)\n",
    "- Data preprocessing/ Imputation\n",
    "- Normalization\n",
    "- Over-sampling\n",
    "- Model selection\n",
    "- Pipeline\n",
    "- Hyperparameter tuning\n",
    "- GridSearchCV\n",
    "- Model evaluation\n",
    "- Results\n",
    "- Conclusion"
   ]
  },
  {
   "cell_type": "markdown",
   "id": "054c7a9d",
   "metadata": {},
   "source": [
    "- SVC: SVM\n",
    "- Logistic: Linear model\n",
    "- KNeighborsClassifier: Neighbors\n",
    "- RandomForest: Ensemble technique\n",
    "- AdaBoost: Boosting technique"
   ]
  },
  {
   "cell_type": "markdown",
   "id": "38430a99",
   "metadata": {},
   "source": [
    "### Oversampling using SMOTE"
   ]
  },
  {
   "cell_type": "code",
   "execution_count": null,
   "id": "48f7bf46",
   "metadata": {},
   "outputs": [],
   "source": [
    "from imblearn.over_sampling import SMOTE\n",
    "\n",
    "sm = SMOTE(random_state=42)\n",
    "X_res, y_res = sm.fit_resample(X, y)"
   ]
  },
  {
   "cell_type": "code",
   "execution_count": 420,
   "id": "434990da",
   "metadata": {},
   "outputs": [
    {
     "data": {
      "text/plain": [
       "Very Unhealthy                    4027\n",
       "Good                              4027\n",
       "Unhealthy for Sensitive groups    4027\n",
       "Hazardous                         4027\n",
       "Moderate                          4027\n",
       "Unhealthy                         4027\n",
       "Name: AQI Category, dtype: int64"
      ]
     },
     "execution_count": 420,
     "metadata": {},
     "output_type": "execute_result"
    }
   ],
   "source": [
    "y_res.value_counts()"
   ]
  },
  {
   "cell_type": "code",
   "execution_count": 421,
   "id": "802c7151",
   "metadata": {},
   "outputs": [
    {
     "data": {
      "text/plain": [
       "(24162, 5)"
      ]
     },
     "execution_count": 421,
     "metadata": {},
     "output_type": "execute_result"
    }
   ],
   "source": [
    "X_res.shape"
   ]
  },
  {
   "cell_type": "code",
   "execution_count": 435,
   "id": "643c3fff",
   "metadata": {},
   "outputs": [
    {
     "name": "stdout",
     "output_type": "stream",
     "text": [
      "Accuracy: 0.8754310939439923\n",
      "F1-Score: 0.8765042739613984\n",
      "                                precision    recall  f1-score   support\n",
      "\n",
      "                          Good       0.99      0.93      0.96      1193\n",
      "                     Hazardous       0.99      0.87      0.92      1180\n",
      "                      Moderate       0.89      0.95      0.92      1213\n",
      "                     Unhealthy       0.77      0.80      0.79      1203\n",
      "Unhealthy for Sensitive groups       0.87      0.80      0.83      1219\n",
      "                Very Unhealthy       0.79      0.90      0.84      1241\n",
      "\n",
      "                      accuracy                           0.88      7249\n",
      "                     macro avg       0.88      0.88      0.88      7249\n",
      "                  weighted avg       0.88      0.88      0.88      7249\n",
      "\n"
     ]
    }
   ],
   "source": [
    "X_scaled = scaler.fit_transform(X_res)\n",
    "\n",
    "xtrain, xtest, ytrain, ytest = train_test_split(X_scaled, y_res, test_size=0.3, random_state=0)\n",
    "\n",
    "rfc = RandomForestClassifier(n_estimators=100, max_depth=3, n_jobs=-1, random_state=0)\n",
    "\n",
    "rfc.fit(xtrain, ytrain)\n",
    "\n",
    "pred = rfc.predict(xtest)\n",
    "\n",
    "print('Accuracy: {}'.format(accuracy_score(ytest, pred)))\n",
    "\n",
    "print('F1-Score: {}'.format(f1_score(ytest, pred, average='weighted')))\n",
    "\n",
    "print(classification_report(ytest, pred))\n",
    "\n",
    "# print('AUC score: {}'.format(roc_auc_score(ytest, rfc.predict_proba(xtest), multi_class='ovr')))"
   ]
  },
  {
   "cell_type": "markdown",
   "id": "6e288205",
   "metadata": {},
   "source": [
    "### Oversampling + Stratified sampling"
   ]
  },
  {
   "cell_type": "code",
   "execution_count": 460,
   "id": "6d51dc8e",
   "metadata": {},
   "outputs": [
    {
     "name": "stdout",
     "output_type": "stream",
     "text": [
      "Train Accuracy: 0.8703955537160764\n",
      "Test Accuracy: 0.8689474410263485\n",
      "F1-Score: 0.8696497804582144\n",
      "                                precision    recall  f1-score   support\n",
      "\n",
      "                          Good       0.99      0.93      0.96      1208\n",
      "                     Hazardous       0.97      0.89      0.93      1208\n",
      "                      Moderate       0.89      0.94      0.91      1208\n",
      "                     Unhealthy       0.77      0.76      0.77      1208\n",
      "Unhealthy for Sensitive groups       0.84      0.79      0.81      1209\n",
      "                Very Unhealthy       0.79      0.90      0.84      1208\n",
      "\n",
      "                      accuracy                           0.87      7249\n",
      "                     macro avg       0.87      0.87      0.87      7249\n",
      "                  weighted avg       0.87      0.87      0.87      7249\n",
      "\n"
     ]
    }
   ],
   "source": [
    "X_scaled = scaler.fit_transform(X_res)\n",
    "\n",
    "xtrain, xtest, ytrain, ytest = train_test_split(X_scaled, y_res, test_size=0.3, stratify=y_res, random_state=0)\n",
    "\n",
    "rfc = RandomForestClassifier(n_estimators=150, max_depth=3, n_jobs=-1, random_state=0)\n",
    "\n",
    "rfc.fit(xtrain, ytrain)\n",
    "\n",
    "pred = rfc.predict(xtest)\n",
    "\n",
    "print('Train Accuracy: {}'.format(accuracy_score(ytrain, rfc.predict(xtrain))))\n",
    "\n",
    "print('Test Accuracy: {}'.format(accuracy_score(ytest, pred)))\n",
    "\n",
    "print('F1-Score: {}'.format(f1_score(ytest, pred, average='weighted')))\n",
    "\n",
    "print(classification_report(ytest, pred))\n",
    "\n",
    "# print('AUC score: {}'.format(roc_auc_score(ytest, rfc.predict_proba(xtest), multi_class='ovr')))"
   ]
  },
  {
   "cell_type": "markdown",
   "id": "14261932",
   "metadata": {},
   "source": [
    "Data Preprocessing -> Feature selection and engineering -> Basic RF -> Oversampling -> Model Selection -> Results"
   ]
  },
  {
   "cell_type": "code",
   "execution_count": 494,
   "id": "acde15d1",
   "metadata": {},
   "outputs": [],
   "source": [
    "from sklearn.ensemble import AdaBoostClassifier\n",
    "\n",
    "clf = AdaBoostClassifier(n_estimators=1000, random_state=0, learning_rate=2.2)\n",
    "clf.fit(xtrain, ytrain)\n",
    "pred = clf.predict(xtest)"
   ]
  },
  {
   "cell_type": "code",
   "execution_count": 495,
   "id": "39abc8ad",
   "metadata": {},
   "outputs": [
    {
     "name": "stdout",
     "output_type": "stream",
     "text": [
      "Train Accuracy: 0.8688582746999349\n",
      "Test Accuracy: 0.8656366395364878\n",
      "F1-Score: 0.8641942453806402\n",
      "                                precision    recall  f1-score   support\n",
      "\n",
      "                          Good       1.00      0.74      0.85      1208\n",
      "                     Hazardous       0.88      0.96      0.92      1208\n",
      "                      Moderate       0.78      0.96      0.86      1208\n",
      "                     Unhealthy       0.84      0.84      0.84      1208\n",
      "Unhealthy for Sensitive groups       0.95      0.96      0.95      1209\n",
      "                Very Unhealthy       0.80      0.73      0.76      1208\n",
      "\n",
      "                      accuracy                           0.87      7249\n",
      "                     macro avg       0.87      0.87      0.86      7249\n",
      "                  weighted avg       0.87      0.87      0.86      7249\n",
      "\n"
     ]
    }
   ],
   "source": [
    "print('Train Accuracy: {}'.format(accuracy_score(ytrain, clf.predict(xtrain))))\n",
    "\n",
    "print('Test Accuracy: {}'.format(accuracy_score(ytest, pred)))\n",
    "\n",
    "print('F1-Score: {}'.format(f1_score(ytest, pred, average='weighted')))\n",
    "\n",
    "print(classification_report(ytest, pred))"
   ]
  },
  {
   "cell_type": "markdown",
   "id": "3da07843",
   "metadata": {},
   "source": [
    "## Team Johari and Amber"
   ]
  },
  {
   "cell_type": "markdown",
   "id": "1de51af5",
   "metadata": {},
   "source": [
    "### Create pipeline"
   ]
  },
  {
   "cell_type": "code",
   "execution_count": 540,
   "id": "ab5d4bb5",
   "metadata": {},
   "outputs": [],
   "source": [
    "from sklearn.linear_model import LogisticRegression\n",
    "from sklearn.svm import SVC\n",
    "from sklearn.neighbors import KNeighborsClassifier\n",
    "from sklearn.naive_bayes import GaussianNB\n",
    "from sklearn.ensemble import AdaBoostClassifier\n",
    "\n",
    "from sklearn.model_selection import GridSearchCV"
   ]
  },
  {
   "cell_type": "code",
   "execution_count": 555,
   "id": "1449e9e8",
   "metadata": {},
   "outputs": [],
   "source": [
    "from sklearn.pipeline import Pipeline\n",
    "from sklearn.model_selection import RepeatedStratifiedKFold, cross_val_score\n",
    "\n",
    "from sklearn.model_selection import GridSearchCV\n",
    "from sklearn.metrics import confusion_matrix, classification_report, f1_score"
   ]
  },
  {
   "cell_type": "code",
   "execution_count": 574,
   "id": "a21a68df",
   "metadata": {},
   "outputs": [],
   "source": [
    "lr = LogisticRegression(solver='liblinear', multi_class='auto')\n",
    "pipe_lr = Pipeline([('scaler', scaler), ('model', lr)])\n",
    "cv = RepeatedStratifiedKFold(n_splits =10,n_repeats=3,random_state=1)\n",
    "# scores = cross_val_score(pipe, X,y, scoring= 'accuracy',cv =cv, n_jobs=-1)\n",
    "\n",
    "rf = RandomForestClassifier()\n",
    "pipe_rf = Pipeline([('scaler', scaler), ('model', rf)])\n",
    "\n",
    "svc = SVC(gamma='auto')\n",
    "pipe_svc = Pipeline([('scaler', scaler), ('model', svc)])\n",
    "\n",
    "knn = KNeighborsClassifier()\n",
    "pipe_knn = Pipeline([('scaler', scaler), ('model', knn)])\n",
    "\n",
    "ada = AdaBoostClassifier()\n",
    "pipe_ada = Pipeline([('scaler', scaler), ('model', ada)])"
   ]
  },
  {
   "cell_type": "code",
   "execution_count": 577,
   "id": "c40f6cbe",
   "metadata": {},
   "outputs": [],
   "source": [
    "model_params = {\n",
    "    \n",
    "    'Random Forest': {\n",
    "        'model': pipe_rf,\n",
    "        'params': {\n",
    "            'model__n_estimators': [50, 100, 150,  200],\n",
    "            'model__max_depth': [3, 5, 8]\n",
    "        }\n",
    "    },\n",
    "    'SVC' : {\n",
    "        'model': pipe_svc,\n",
    "        'params': {\n",
    "            'model__C': [1,10,20],\n",
    "            'model__kernel': ['rbf', 'linear']\n",
    "        }\n",
    "    },\n",
    "    'Logistic Regression' : {\n",
    "        'model': pipe_lr,\n",
    "        'params':{\n",
    "            'model__C': [1,5,10],\n",
    "            'model__penalty': ['l1', 'l2']\n",
    "        }\n",
    "    },\n",
    "    'KNN' : {\n",
    "        'model': pipe_knn,\n",
    "        'params':{\n",
    "            'model__leaf_size': range(1,3),\n",
    "            'model__n_neighbors': range(1,10),\n",
    "            'model__p' : [1,2]\n",
    "        }\n",
    "    },\n",
    "    'AdaBoost': {\n",
    "        'model': pipe_ada,\n",
    "        'params':{\n",
    "            'model__n_estimators': [100, 200, 500, 1000],\n",
    "            'model__learning_rate': np.arange(1.0, 2.5, 0.2)\n",
    "        }\n",
    "    }\n",
    "}\n",
    "        "
   ]
  },
  {
   "cell_type": "code",
   "execution_count": 578,
   "id": "ba4aeac1",
   "metadata": {},
   "outputs": [
    {
     "name": "stdout",
     "output_type": "stream",
     "text": [
      "[{'Model': 'Random Forest', 'Best parameters': {'model__max_depth': 8, 'model__n_estimators': 200}, 'Train score': 0.9844694644945032, 'Test score': 0.9828941923023865}, {'Model': 'SVC', 'Best parameters': {'model__C': 20, 'model__kernel': 'linear'}, 'Train score': 0.9958414710242283, 'Test score': 0.9965512484480618}, {'Model': 'Logistic Regression', 'Best parameters': {'model__C': 10, 'model__penalty': 'l1'}, 'Train score': 0.8298159751784701, 'Test score': 0.8332183749482688}, {'Model': 'KNN', 'Best parameters': {'model__leaf_size': 1, 'model__n_neighbors': 1, 'model__p': 1}, 'Train score': 0.9823801924526033, 'Test score': 0.9811008414953787}, {'Model': 'AdaBoost', 'Best parameters': {'model__learning_rate': 2.1999999999999997, 'model__n_estimators': 1000}, 'Train score': 0.8260112988663386, 'Test score': 0.8761208442543799}]\n"
     ]
    }
   ],
   "source": [
    "model_scores = []\n",
    "\n",
    "for model_name, mp in model_params.items():\n",
    "    clf = GridSearchCV(mp['model'], mp['params'], cv=cv, return_train_score=False, n_jobs=-1)\n",
    "    clf.fit(xtrain, ytrain)\n",
    "    ypred = clf.predict(xtest)\n",
    "    model_scores.append({\n",
    "        'Model': model_name,\n",
    "        'Best parameters': clf.best_params_,\n",
    "        'Train score': clf.best_score_,\n",
    "        'Test score': accuracy_score(ytest, ypred)\n",
    "        \n",
    "    })\n",
    "    \n",
    "print(model_scores)"
   ]
  },
  {
   "cell_type": "code",
   "execution_count": 602,
   "id": "139f014f",
   "metadata": {},
   "outputs": [
    {
     "data": {
      "text/html": [
       "<div>\n",
       "<style scoped>\n",
       "    .dataframe tbody tr th:only-of-type {\n",
       "        vertical-align: middle;\n",
       "    }\n",
       "\n",
       "    .dataframe tbody tr th {\n",
       "        vertical-align: top;\n",
       "    }\n",
       "\n",
       "    .dataframe thead th {\n",
       "        text-align: right;\n",
       "    }\n",
       "</style>\n",
       "<table border=\"1\" class=\"dataframe\">\n",
       "  <thead>\n",
       "    <tr style=\"text-align: right;\">\n",
       "      <th></th>\n",
       "      <th>Model</th>\n",
       "      <th>Best parameters</th>\n",
       "      <th>Train score</th>\n",
       "      <th>Test score</th>\n",
       "    </tr>\n",
       "  </thead>\n",
       "  <tbody>\n",
       "    <tr>\n",
       "      <th>1</th>\n",
       "      <td>SVC</td>\n",
       "      <td>{'model__C': 20, 'model__kernel': 'linear'}</td>\n",
       "      <td>0.995841</td>\n",
       "      <td>0.996551</td>\n",
       "    </tr>\n",
       "    <tr>\n",
       "      <th>0</th>\n",
       "      <td>Random Forest</td>\n",
       "      <td>{'model__max_depth': 8, 'model__n_estimators':...</td>\n",
       "      <td>0.984469</td>\n",
       "      <td>0.982894</td>\n",
       "    </tr>\n",
       "    <tr>\n",
       "      <th>3</th>\n",
       "      <td>KNN</td>\n",
       "      <td>{'model__leaf_size': 1, 'model__n_neighbors': ...</td>\n",
       "      <td>0.982380</td>\n",
       "      <td>0.981101</td>\n",
       "    </tr>\n",
       "    <tr>\n",
       "      <th>4</th>\n",
       "      <td>AdaBoost</td>\n",
       "      <td>{'model__learning_rate': 2.1999999999999997, '...</td>\n",
       "      <td>0.826011</td>\n",
       "      <td>0.876121</td>\n",
       "    </tr>\n",
       "    <tr>\n",
       "      <th>2</th>\n",
       "      <td>Logistic Regression</td>\n",
       "      <td>{'model__C': 10, 'model__penalty': 'l1'}</td>\n",
       "      <td>0.829816</td>\n",
       "      <td>0.833218</td>\n",
       "    </tr>\n",
       "  </tbody>\n",
       "</table>\n",
       "</div>"
      ],
      "text/plain": [
       "                 Model                                    Best parameters  \\\n",
       "1                  SVC        {'model__C': 20, 'model__kernel': 'linear'}   \n",
       "0        Random Forest  {'model__max_depth': 8, 'model__n_estimators':...   \n",
       "3                  KNN  {'model__leaf_size': 1, 'model__n_neighbors': ...   \n",
       "4             AdaBoost  {'model__learning_rate': 2.1999999999999997, '...   \n",
       "2  Logistic Regression           {'model__C': 10, 'model__penalty': 'l1'}   \n",
       "\n",
       "   Train score  Test score  \n",
       "1     0.995841    0.996551  \n",
       "0     0.984469    0.982894  \n",
       "3     0.982380    0.981101  \n",
       "4     0.826011    0.876121  \n",
       "2     0.829816    0.833218  "
      ]
     },
     "execution_count": 602,
     "metadata": {},
     "output_type": "execute_result"
    }
   ],
   "source": [
    "bm = pd.DataFrame(model_scores)\n",
    "bm = bm.sort_values(by='Test score', ascending=False)\n",
    "bm"
   ]
  },
  {
   "cell_type": "code",
   "execution_count": 613,
   "id": "8f7ffa0c",
   "metadata": {},
   "outputs": [
    {
     "data": {
      "application/vnd.plotly.v1+json": {
       "config": {
        "plotlyServerURL": "https://plot.ly"
       },
       "data": [
        {
         "marker": {
          "color": [
           "lightslategray",
           "crimson",
           "lightslategray",
           "lightslategray",
           "lightslategray"
          ]
         },
         "orientation": "v",
         "text": [
          0.9966,
          0.9829,
          0.9811,
          0.8761,
          0.8332
         ],
         "textposition": "outside",
         "type": "bar",
         "x": [
          "SVC",
          "Random Forest",
          "KNN",
          "AdaBoost",
          "Logistic Regression"
         ],
         "y": [
          0.9966,
          0.9829,
          0.9811,
          0.8761,
          0.8332
         ]
        }
       ],
       "layout": {
        "template": {
         "data": {
          "bar": [
           {
            "error_x": {
             "color": "#2a3f5f"
            },
            "error_y": {
             "color": "#2a3f5f"
            },
            "marker": {
             "line": {
              "color": "#E5ECF6",
              "width": 0.5
             },
             "pattern": {
              "fillmode": "overlay",
              "size": 10,
              "solidity": 0.2
             }
            },
            "type": "bar"
           }
          ],
          "barpolar": [
           {
            "marker": {
             "line": {
              "color": "#E5ECF6",
              "width": 0.5
             },
             "pattern": {
              "fillmode": "overlay",
              "size": 10,
              "solidity": 0.2
             }
            },
            "type": "barpolar"
           }
          ],
          "carpet": [
           {
            "aaxis": {
             "endlinecolor": "#2a3f5f",
             "gridcolor": "white",
             "linecolor": "white",
             "minorgridcolor": "white",
             "startlinecolor": "#2a3f5f"
            },
            "baxis": {
             "endlinecolor": "#2a3f5f",
             "gridcolor": "white",
             "linecolor": "white",
             "minorgridcolor": "white",
             "startlinecolor": "#2a3f5f"
            },
            "type": "carpet"
           }
          ],
          "choropleth": [
           {
            "colorbar": {
             "outlinewidth": 0,
             "ticks": ""
            },
            "type": "choropleth"
           }
          ],
          "contour": [
           {
            "colorbar": {
             "outlinewidth": 0,
             "ticks": ""
            },
            "colorscale": [
             [
              0,
              "#0d0887"
             ],
             [
              0.1111111111111111,
              "#46039f"
             ],
             [
              0.2222222222222222,
              "#7201a8"
             ],
             [
              0.3333333333333333,
              "#9c179e"
             ],
             [
              0.4444444444444444,
              "#bd3786"
             ],
             [
              0.5555555555555556,
              "#d8576b"
             ],
             [
              0.6666666666666666,
              "#ed7953"
             ],
             [
              0.7777777777777778,
              "#fb9f3a"
             ],
             [
              0.8888888888888888,
              "#fdca26"
             ],
             [
              1,
              "#f0f921"
             ]
            ],
            "type": "contour"
           }
          ],
          "contourcarpet": [
           {
            "colorbar": {
             "outlinewidth": 0,
             "ticks": ""
            },
            "type": "contourcarpet"
           }
          ],
          "heatmap": [
           {
            "colorbar": {
             "outlinewidth": 0,
             "ticks": ""
            },
            "colorscale": [
             [
              0,
              "#0d0887"
             ],
             [
              0.1111111111111111,
              "#46039f"
             ],
             [
              0.2222222222222222,
              "#7201a8"
             ],
             [
              0.3333333333333333,
              "#9c179e"
             ],
             [
              0.4444444444444444,
              "#bd3786"
             ],
             [
              0.5555555555555556,
              "#d8576b"
             ],
             [
              0.6666666666666666,
              "#ed7953"
             ],
             [
              0.7777777777777778,
              "#fb9f3a"
             ],
             [
              0.8888888888888888,
              "#fdca26"
             ],
             [
              1,
              "#f0f921"
             ]
            ],
            "type": "heatmap"
           }
          ],
          "heatmapgl": [
           {
            "colorbar": {
             "outlinewidth": 0,
             "ticks": ""
            },
            "colorscale": [
             [
              0,
              "#0d0887"
             ],
             [
              0.1111111111111111,
              "#46039f"
             ],
             [
              0.2222222222222222,
              "#7201a8"
             ],
             [
              0.3333333333333333,
              "#9c179e"
             ],
             [
              0.4444444444444444,
              "#bd3786"
             ],
             [
              0.5555555555555556,
              "#d8576b"
             ],
             [
              0.6666666666666666,
              "#ed7953"
             ],
             [
              0.7777777777777778,
              "#fb9f3a"
             ],
             [
              0.8888888888888888,
              "#fdca26"
             ],
             [
              1,
              "#f0f921"
             ]
            ],
            "type": "heatmapgl"
           }
          ],
          "histogram": [
           {
            "marker": {
             "pattern": {
              "fillmode": "overlay",
              "size": 10,
              "solidity": 0.2
             }
            },
            "type": "histogram"
           }
          ],
          "histogram2d": [
           {
            "colorbar": {
             "outlinewidth": 0,
             "ticks": ""
            },
            "colorscale": [
             [
              0,
              "#0d0887"
             ],
             [
              0.1111111111111111,
              "#46039f"
             ],
             [
              0.2222222222222222,
              "#7201a8"
             ],
             [
              0.3333333333333333,
              "#9c179e"
             ],
             [
              0.4444444444444444,
              "#bd3786"
             ],
             [
              0.5555555555555556,
              "#d8576b"
             ],
             [
              0.6666666666666666,
              "#ed7953"
             ],
             [
              0.7777777777777778,
              "#fb9f3a"
             ],
             [
              0.8888888888888888,
              "#fdca26"
             ],
             [
              1,
              "#f0f921"
             ]
            ],
            "type": "histogram2d"
           }
          ],
          "histogram2dcontour": [
           {
            "colorbar": {
             "outlinewidth": 0,
             "ticks": ""
            },
            "colorscale": [
             [
              0,
              "#0d0887"
             ],
             [
              0.1111111111111111,
              "#46039f"
             ],
             [
              0.2222222222222222,
              "#7201a8"
             ],
             [
              0.3333333333333333,
              "#9c179e"
             ],
             [
              0.4444444444444444,
              "#bd3786"
             ],
             [
              0.5555555555555556,
              "#d8576b"
             ],
             [
              0.6666666666666666,
              "#ed7953"
             ],
             [
              0.7777777777777778,
              "#fb9f3a"
             ],
             [
              0.8888888888888888,
              "#fdca26"
             ],
             [
              1,
              "#f0f921"
             ]
            ],
            "type": "histogram2dcontour"
           }
          ],
          "mesh3d": [
           {
            "colorbar": {
             "outlinewidth": 0,
             "ticks": ""
            },
            "type": "mesh3d"
           }
          ],
          "parcoords": [
           {
            "line": {
             "colorbar": {
              "outlinewidth": 0,
              "ticks": ""
             }
            },
            "type": "parcoords"
           }
          ],
          "pie": [
           {
            "automargin": true,
            "type": "pie"
           }
          ],
          "scatter": [
           {
            "marker": {
             "colorbar": {
              "outlinewidth": 0,
              "ticks": ""
             }
            },
            "type": "scatter"
           }
          ],
          "scatter3d": [
           {
            "line": {
             "colorbar": {
              "outlinewidth": 0,
              "ticks": ""
             }
            },
            "marker": {
             "colorbar": {
              "outlinewidth": 0,
              "ticks": ""
             }
            },
            "type": "scatter3d"
           }
          ],
          "scattercarpet": [
           {
            "marker": {
             "colorbar": {
              "outlinewidth": 0,
              "ticks": ""
             }
            },
            "type": "scattercarpet"
           }
          ],
          "scattergeo": [
           {
            "marker": {
             "colorbar": {
              "outlinewidth": 0,
              "ticks": ""
             }
            },
            "type": "scattergeo"
           }
          ],
          "scattergl": [
           {
            "marker": {
             "colorbar": {
              "outlinewidth": 0,
              "ticks": ""
             }
            },
            "type": "scattergl"
           }
          ],
          "scattermapbox": [
           {
            "marker": {
             "colorbar": {
              "outlinewidth": 0,
              "ticks": ""
             }
            },
            "type": "scattermapbox"
           }
          ],
          "scatterpolar": [
           {
            "marker": {
             "colorbar": {
              "outlinewidth": 0,
              "ticks": ""
             }
            },
            "type": "scatterpolar"
           }
          ],
          "scatterpolargl": [
           {
            "marker": {
             "colorbar": {
              "outlinewidth": 0,
              "ticks": ""
             }
            },
            "type": "scatterpolargl"
           }
          ],
          "scatterternary": [
           {
            "marker": {
             "colorbar": {
              "outlinewidth": 0,
              "ticks": ""
             }
            },
            "type": "scatterternary"
           }
          ],
          "surface": [
           {
            "colorbar": {
             "outlinewidth": 0,
             "ticks": ""
            },
            "colorscale": [
             [
              0,
              "#0d0887"
             ],
             [
              0.1111111111111111,
              "#46039f"
             ],
             [
              0.2222222222222222,
              "#7201a8"
             ],
             [
              0.3333333333333333,
              "#9c179e"
             ],
             [
              0.4444444444444444,
              "#bd3786"
             ],
             [
              0.5555555555555556,
              "#d8576b"
             ],
             [
              0.6666666666666666,
              "#ed7953"
             ],
             [
              0.7777777777777778,
              "#fb9f3a"
             ],
             [
              0.8888888888888888,
              "#fdca26"
             ],
             [
              1,
              "#f0f921"
             ]
            ],
            "type": "surface"
           }
          ],
          "table": [
           {
            "cells": {
             "fill": {
              "color": "#EBF0F8"
             },
             "line": {
              "color": "white"
             }
            },
            "header": {
             "fill": {
              "color": "#C8D4E3"
             },
             "line": {
              "color": "white"
             }
            },
            "type": "table"
           }
          ]
         },
         "layout": {
          "annotationdefaults": {
           "arrowcolor": "#2a3f5f",
           "arrowhead": 0,
           "arrowwidth": 1
          },
          "autotypenumbers": "strict",
          "coloraxis": {
           "colorbar": {
            "outlinewidth": 0,
            "ticks": ""
           }
          },
          "colorscale": {
           "diverging": [
            [
             0,
             "#8e0152"
            ],
            [
             0.1,
             "#c51b7d"
            ],
            [
             0.2,
             "#de77ae"
            ],
            [
             0.3,
             "#f1b6da"
            ],
            [
             0.4,
             "#fde0ef"
            ],
            [
             0.5,
             "#f7f7f7"
            ],
            [
             0.6,
             "#e6f5d0"
            ],
            [
             0.7,
             "#b8e186"
            ],
            [
             0.8,
             "#7fbc41"
            ],
            [
             0.9,
             "#4d9221"
            ],
            [
             1,
             "#276419"
            ]
           ],
           "sequential": [
            [
             0,
             "#0d0887"
            ],
            [
             0.1111111111111111,
             "#46039f"
            ],
            [
             0.2222222222222222,
             "#7201a8"
            ],
            [
             0.3333333333333333,
             "#9c179e"
            ],
            [
             0.4444444444444444,
             "#bd3786"
            ],
            [
             0.5555555555555556,
             "#d8576b"
            ],
            [
             0.6666666666666666,
             "#ed7953"
            ],
            [
             0.7777777777777778,
             "#fb9f3a"
            ],
            [
             0.8888888888888888,
             "#fdca26"
            ],
            [
             1,
             "#f0f921"
            ]
           ],
           "sequentialminus": [
            [
             0,
             "#0d0887"
            ],
            [
             0.1111111111111111,
             "#46039f"
            ],
            [
             0.2222222222222222,
             "#7201a8"
            ],
            [
             0.3333333333333333,
             "#9c179e"
            ],
            [
             0.4444444444444444,
             "#bd3786"
            ],
            [
             0.5555555555555556,
             "#d8576b"
            ],
            [
             0.6666666666666666,
             "#ed7953"
            ],
            [
             0.7777777777777778,
             "#fb9f3a"
            ],
            [
             0.8888888888888888,
             "#fdca26"
            ],
            [
             1,
             "#f0f921"
            ]
           ]
          },
          "colorway": [
           "#636efa",
           "#EF553B",
           "#00cc96",
           "#ab63fa",
           "#FFA15A",
           "#19d3f3",
           "#FF6692",
           "#B6E880",
           "#FF97FF",
           "#FECB52"
          ],
          "font": {
           "color": "#2a3f5f"
          },
          "geo": {
           "bgcolor": "white",
           "lakecolor": "white",
           "landcolor": "#E5ECF6",
           "showlakes": true,
           "showland": true,
           "subunitcolor": "white"
          },
          "hoverlabel": {
           "align": "left"
          },
          "hovermode": "closest",
          "mapbox": {
           "style": "light"
          },
          "paper_bgcolor": "white",
          "plot_bgcolor": "#E5ECF6",
          "polar": {
           "angularaxis": {
            "gridcolor": "white",
            "linecolor": "white",
            "ticks": ""
           },
           "bgcolor": "#E5ECF6",
           "radialaxis": {
            "gridcolor": "white",
            "linecolor": "white",
            "ticks": ""
           }
          },
          "scene": {
           "xaxis": {
            "backgroundcolor": "#E5ECF6",
            "gridcolor": "white",
            "gridwidth": 2,
            "linecolor": "white",
            "showbackground": true,
            "ticks": "",
            "zerolinecolor": "white"
           },
           "yaxis": {
            "backgroundcolor": "#E5ECF6",
            "gridcolor": "white",
            "gridwidth": 2,
            "linecolor": "white",
            "showbackground": true,
            "ticks": "",
            "zerolinecolor": "white"
           },
           "zaxis": {
            "backgroundcolor": "#E5ECF6",
            "gridcolor": "white",
            "gridwidth": 2,
            "linecolor": "white",
            "showbackground": true,
            "ticks": "",
            "zerolinecolor": "white"
           }
          },
          "shapedefaults": {
           "line": {
            "color": "#2a3f5f"
           }
          },
          "ternary": {
           "aaxis": {
            "gridcolor": "white",
            "linecolor": "white",
            "ticks": ""
           },
           "baxis": {
            "gridcolor": "white",
            "linecolor": "white",
            "ticks": ""
           },
           "bgcolor": "#E5ECF6",
           "caxis": {
            "gridcolor": "white",
            "linecolor": "white",
            "ticks": ""
           }
          },
          "title": {
           "x": 0.05
          },
          "xaxis": {
           "automargin": true,
           "gridcolor": "white",
           "linecolor": "white",
           "ticks": "",
           "title": {
            "standoff": 15
           },
           "zerolinecolor": "white",
           "zerolinewidth": 2
          },
          "yaxis": {
           "automargin": true,
           "gridcolor": "white",
           "linecolor": "white",
           "ticks": "",
           "title": {
            "standoff": 15
           },
           "zerolinecolor": "white",
           "zerolinewidth": 2
          }
         }
        },
        "title": {
         "text": "Model Comparison"
        },
        "xaxis": {
         "title": {
          "text": "Model"
         }
        },
        "yaxis": {
         "title": {
          "text": "Test Score"
         }
        }
       }
      },
      "text/html": [
       "<div>                            <div id=\"d677425b-b6a3-44fd-b78d-1f6bf00fe49a\" class=\"plotly-graph-div\" style=\"height:525px; width:100%;\"></div>            <script type=\"text/javascript\">                require([\"plotly\"], function(Plotly) {                    window.PLOTLYENV=window.PLOTLYENV || {};                                    if (document.getElementById(\"d677425b-b6a3-44fd-b78d-1f6bf00fe49a\")) {                    Plotly.newPlot(                        \"d677425b-b6a3-44fd-b78d-1f6bf00fe49a\",                        [{\"marker\":{\"color\":[\"lightslategray\",\"crimson\",\"lightslategray\",\"lightslategray\",\"lightslategray\"]},\"orientation\":\"v\",\"text\":[0.9966,0.9829,0.9811,0.8761,0.8332],\"textposition\":\"outside\",\"type\":\"bar\",\"x\":[\"SVC\",\"Random Forest\",\"KNN\",\"AdaBoost\",\"Logistic Regression\"],\"y\":[0.9966,0.9829,0.9811,0.8761,0.8332]}],                        {\"template\":{\"data\":{\"bar\":[{\"error_x\":{\"color\":\"#2a3f5f\"},\"error_y\":{\"color\":\"#2a3f5f\"},\"marker\":{\"line\":{\"color\":\"#E5ECF6\",\"width\":0.5},\"pattern\":{\"fillmode\":\"overlay\",\"size\":10,\"solidity\":0.2}},\"type\":\"bar\"}],\"barpolar\":[{\"marker\":{\"line\":{\"color\":\"#E5ECF6\",\"width\":0.5},\"pattern\":{\"fillmode\":\"overlay\",\"size\":10,\"solidity\":0.2}},\"type\":\"barpolar\"}],\"carpet\":[{\"aaxis\":{\"endlinecolor\":\"#2a3f5f\",\"gridcolor\":\"white\",\"linecolor\":\"white\",\"minorgridcolor\":\"white\",\"startlinecolor\":\"#2a3f5f\"},\"baxis\":{\"endlinecolor\":\"#2a3f5f\",\"gridcolor\":\"white\",\"linecolor\":\"white\",\"minorgridcolor\":\"white\",\"startlinecolor\":\"#2a3f5f\"},\"type\":\"carpet\"}],\"choropleth\":[{\"colorbar\":{\"outlinewidth\":0,\"ticks\":\"\"},\"type\":\"choropleth\"}],\"contour\":[{\"colorbar\":{\"outlinewidth\":0,\"ticks\":\"\"},\"colorscale\":[[0.0,\"#0d0887\"],[0.1111111111111111,\"#46039f\"],[0.2222222222222222,\"#7201a8\"],[0.3333333333333333,\"#9c179e\"],[0.4444444444444444,\"#bd3786\"],[0.5555555555555556,\"#d8576b\"],[0.6666666666666666,\"#ed7953\"],[0.7777777777777778,\"#fb9f3a\"],[0.8888888888888888,\"#fdca26\"],[1.0,\"#f0f921\"]],\"type\":\"contour\"}],\"contourcarpet\":[{\"colorbar\":{\"outlinewidth\":0,\"ticks\":\"\"},\"type\":\"contourcarpet\"}],\"heatmap\":[{\"colorbar\":{\"outlinewidth\":0,\"ticks\":\"\"},\"colorscale\":[[0.0,\"#0d0887\"],[0.1111111111111111,\"#46039f\"],[0.2222222222222222,\"#7201a8\"],[0.3333333333333333,\"#9c179e\"],[0.4444444444444444,\"#bd3786\"],[0.5555555555555556,\"#d8576b\"],[0.6666666666666666,\"#ed7953\"],[0.7777777777777778,\"#fb9f3a\"],[0.8888888888888888,\"#fdca26\"],[1.0,\"#f0f921\"]],\"type\":\"heatmap\"}],\"heatmapgl\":[{\"colorbar\":{\"outlinewidth\":0,\"ticks\":\"\"},\"colorscale\":[[0.0,\"#0d0887\"],[0.1111111111111111,\"#46039f\"],[0.2222222222222222,\"#7201a8\"],[0.3333333333333333,\"#9c179e\"],[0.4444444444444444,\"#bd3786\"],[0.5555555555555556,\"#d8576b\"],[0.6666666666666666,\"#ed7953\"],[0.7777777777777778,\"#fb9f3a\"],[0.8888888888888888,\"#fdca26\"],[1.0,\"#f0f921\"]],\"type\":\"heatmapgl\"}],\"histogram\":[{\"marker\":{\"pattern\":{\"fillmode\":\"overlay\",\"size\":10,\"solidity\":0.2}},\"type\":\"histogram\"}],\"histogram2d\":[{\"colorbar\":{\"outlinewidth\":0,\"ticks\":\"\"},\"colorscale\":[[0.0,\"#0d0887\"],[0.1111111111111111,\"#46039f\"],[0.2222222222222222,\"#7201a8\"],[0.3333333333333333,\"#9c179e\"],[0.4444444444444444,\"#bd3786\"],[0.5555555555555556,\"#d8576b\"],[0.6666666666666666,\"#ed7953\"],[0.7777777777777778,\"#fb9f3a\"],[0.8888888888888888,\"#fdca26\"],[1.0,\"#f0f921\"]],\"type\":\"histogram2d\"}],\"histogram2dcontour\":[{\"colorbar\":{\"outlinewidth\":0,\"ticks\":\"\"},\"colorscale\":[[0.0,\"#0d0887\"],[0.1111111111111111,\"#46039f\"],[0.2222222222222222,\"#7201a8\"],[0.3333333333333333,\"#9c179e\"],[0.4444444444444444,\"#bd3786\"],[0.5555555555555556,\"#d8576b\"],[0.6666666666666666,\"#ed7953\"],[0.7777777777777778,\"#fb9f3a\"],[0.8888888888888888,\"#fdca26\"],[1.0,\"#f0f921\"]],\"type\":\"histogram2dcontour\"}],\"mesh3d\":[{\"colorbar\":{\"outlinewidth\":0,\"ticks\":\"\"},\"type\":\"mesh3d\"}],\"parcoords\":[{\"line\":{\"colorbar\":{\"outlinewidth\":0,\"ticks\":\"\"}},\"type\":\"parcoords\"}],\"pie\":[{\"automargin\":true,\"type\":\"pie\"}],\"scatter\":[{\"marker\":{\"colorbar\":{\"outlinewidth\":0,\"ticks\":\"\"}},\"type\":\"scatter\"}],\"scatter3d\":[{\"line\":{\"colorbar\":{\"outlinewidth\":0,\"ticks\":\"\"}},\"marker\":{\"colorbar\":{\"outlinewidth\":0,\"ticks\":\"\"}},\"type\":\"scatter3d\"}],\"scattercarpet\":[{\"marker\":{\"colorbar\":{\"outlinewidth\":0,\"ticks\":\"\"}},\"type\":\"scattercarpet\"}],\"scattergeo\":[{\"marker\":{\"colorbar\":{\"outlinewidth\":0,\"ticks\":\"\"}},\"type\":\"scattergeo\"}],\"scattergl\":[{\"marker\":{\"colorbar\":{\"outlinewidth\":0,\"ticks\":\"\"}},\"type\":\"scattergl\"}],\"scattermapbox\":[{\"marker\":{\"colorbar\":{\"outlinewidth\":0,\"ticks\":\"\"}},\"type\":\"scattermapbox\"}],\"scatterpolar\":[{\"marker\":{\"colorbar\":{\"outlinewidth\":0,\"ticks\":\"\"}},\"type\":\"scatterpolar\"}],\"scatterpolargl\":[{\"marker\":{\"colorbar\":{\"outlinewidth\":0,\"ticks\":\"\"}},\"type\":\"scatterpolargl\"}],\"scatterternary\":[{\"marker\":{\"colorbar\":{\"outlinewidth\":0,\"ticks\":\"\"}},\"type\":\"scatterternary\"}],\"surface\":[{\"colorbar\":{\"outlinewidth\":0,\"ticks\":\"\"},\"colorscale\":[[0.0,\"#0d0887\"],[0.1111111111111111,\"#46039f\"],[0.2222222222222222,\"#7201a8\"],[0.3333333333333333,\"#9c179e\"],[0.4444444444444444,\"#bd3786\"],[0.5555555555555556,\"#d8576b\"],[0.6666666666666666,\"#ed7953\"],[0.7777777777777778,\"#fb9f3a\"],[0.8888888888888888,\"#fdca26\"],[1.0,\"#f0f921\"]],\"type\":\"surface\"}],\"table\":[{\"cells\":{\"fill\":{\"color\":\"#EBF0F8\"},\"line\":{\"color\":\"white\"}},\"header\":{\"fill\":{\"color\":\"#C8D4E3\"},\"line\":{\"color\":\"white\"}},\"type\":\"table\"}]},\"layout\":{\"annotationdefaults\":{\"arrowcolor\":\"#2a3f5f\",\"arrowhead\":0,\"arrowwidth\":1},\"autotypenumbers\":\"strict\",\"coloraxis\":{\"colorbar\":{\"outlinewidth\":0,\"ticks\":\"\"}},\"colorscale\":{\"diverging\":[[0,\"#8e0152\"],[0.1,\"#c51b7d\"],[0.2,\"#de77ae\"],[0.3,\"#f1b6da\"],[0.4,\"#fde0ef\"],[0.5,\"#f7f7f7\"],[0.6,\"#e6f5d0\"],[0.7,\"#b8e186\"],[0.8,\"#7fbc41\"],[0.9,\"#4d9221\"],[1,\"#276419\"]],\"sequential\":[[0.0,\"#0d0887\"],[0.1111111111111111,\"#46039f\"],[0.2222222222222222,\"#7201a8\"],[0.3333333333333333,\"#9c179e\"],[0.4444444444444444,\"#bd3786\"],[0.5555555555555556,\"#d8576b\"],[0.6666666666666666,\"#ed7953\"],[0.7777777777777778,\"#fb9f3a\"],[0.8888888888888888,\"#fdca26\"],[1.0,\"#f0f921\"]],\"sequentialminus\":[[0.0,\"#0d0887\"],[0.1111111111111111,\"#46039f\"],[0.2222222222222222,\"#7201a8\"],[0.3333333333333333,\"#9c179e\"],[0.4444444444444444,\"#bd3786\"],[0.5555555555555556,\"#d8576b\"],[0.6666666666666666,\"#ed7953\"],[0.7777777777777778,\"#fb9f3a\"],[0.8888888888888888,\"#fdca26\"],[1.0,\"#f0f921\"]]},\"colorway\":[\"#636efa\",\"#EF553B\",\"#00cc96\",\"#ab63fa\",\"#FFA15A\",\"#19d3f3\",\"#FF6692\",\"#B6E880\",\"#FF97FF\",\"#FECB52\"],\"font\":{\"color\":\"#2a3f5f\"},\"geo\":{\"bgcolor\":\"white\",\"lakecolor\":\"white\",\"landcolor\":\"#E5ECF6\",\"showlakes\":true,\"showland\":true,\"subunitcolor\":\"white\"},\"hoverlabel\":{\"align\":\"left\"},\"hovermode\":\"closest\",\"mapbox\":{\"style\":\"light\"},\"paper_bgcolor\":\"white\",\"plot_bgcolor\":\"#E5ECF6\",\"polar\":{\"angularaxis\":{\"gridcolor\":\"white\",\"linecolor\":\"white\",\"ticks\":\"\"},\"bgcolor\":\"#E5ECF6\",\"radialaxis\":{\"gridcolor\":\"white\",\"linecolor\":\"white\",\"ticks\":\"\"}},\"scene\":{\"xaxis\":{\"backgroundcolor\":\"#E5ECF6\",\"gridcolor\":\"white\",\"gridwidth\":2,\"linecolor\":\"white\",\"showbackground\":true,\"ticks\":\"\",\"zerolinecolor\":\"white\"},\"yaxis\":{\"backgroundcolor\":\"#E5ECF6\",\"gridcolor\":\"white\",\"gridwidth\":2,\"linecolor\":\"white\",\"showbackground\":true,\"ticks\":\"\",\"zerolinecolor\":\"white\"},\"zaxis\":{\"backgroundcolor\":\"#E5ECF6\",\"gridcolor\":\"white\",\"gridwidth\":2,\"linecolor\":\"white\",\"showbackground\":true,\"ticks\":\"\",\"zerolinecolor\":\"white\"}},\"shapedefaults\":{\"line\":{\"color\":\"#2a3f5f\"}},\"ternary\":{\"aaxis\":{\"gridcolor\":\"white\",\"linecolor\":\"white\",\"ticks\":\"\"},\"baxis\":{\"gridcolor\":\"white\",\"linecolor\":\"white\",\"ticks\":\"\"},\"bgcolor\":\"#E5ECF6\",\"caxis\":{\"gridcolor\":\"white\",\"linecolor\":\"white\",\"ticks\":\"\"}},\"title\":{\"x\":0.05},\"xaxis\":{\"automargin\":true,\"gridcolor\":\"white\",\"linecolor\":\"white\",\"ticks\":\"\",\"title\":{\"standoff\":15},\"zerolinecolor\":\"white\",\"zerolinewidth\":2},\"yaxis\":{\"automargin\":true,\"gridcolor\":\"white\",\"linecolor\":\"white\",\"ticks\":\"\",\"title\":{\"standoff\":15},\"zerolinecolor\":\"white\",\"zerolinewidth\":2}}},\"title\":{\"text\":\"Model Comparison\"},\"xaxis\":{\"title\":{\"text\":\"Model\"}},\"yaxis\":{\"title\":{\"text\":\"Test Score\"}}},                        {\"responsive\": true}                    ).then(function(){\n",
       "                            \n",
       "var gd = document.getElementById('d677425b-b6a3-44fd-b78d-1f6bf00fe49a');\n",
       "var x = new MutationObserver(function (mutations, observer) {{\n",
       "        var display = window.getComputedStyle(gd).display;\n",
       "        if (!display || display === 'none') {{\n",
       "            console.log([gd, 'removed!']);\n",
       "            Plotly.purge(gd);\n",
       "            observer.disconnect();\n",
       "        }}\n",
       "}});\n",
       "\n",
       "// Listen for the removal of the full notebook cells\n",
       "var notebookContainer = gd.closest('#notebook-container');\n",
       "if (notebookContainer) {{\n",
       "    x.observe(notebookContainer, {childList: true});\n",
       "}}\n",
       "\n",
       "// Listen for the clearing of the current output cell\n",
       "var outputEl = gd.closest('.output');\n",
       "if (outputEl) {{\n",
       "    x.observe(outputEl, {childList: true});\n",
       "}}\n",
       "\n",
       "                        })                };                });            </script>        </div>"
      ]
     },
     "metadata": {},
     "output_type": "display_data"
    }
   ],
   "source": [
    "import plotly.graph_objects as go\n",
    "\n",
    "colors = ['lightslategray',] * 5\n",
    "colors[1] = 'crimson'\n",
    "\n",
    "y = round(bm['Test score'], 4)\n",
    "x = bm['Model']\n",
    "\n",
    "# Use textposition='auto' for direct text\n",
    "fig = go.Figure(data=[go.Bar(\n",
    "            x=x, y=y,\n",
    "            text=y,\n",
    "            textposition='outside', orientation = 'v', marker_color=colors\n",
    "        )])\n",
    "\n",
    "# fig.update_layout(\n",
    "#     autosize=False,\n",
    "#     width=800,\n",
    "#     height=500)\n",
    "\n",
    "fig.update_layout(title_text='Model Comparison',\n",
    "                 xaxis_title=\"Model\",\n",
    "                 yaxis_title=\"Test Score\",)\n",
    "\n",
    "\n",
    "fig.show()"
   ]
  },
  {
   "cell_type": "code",
   "execution_count": 614,
   "id": "0c8ae87d",
   "metadata": {},
   "outputs": [],
   "source": [
    "# plt.subplots(figsize=(12,10))\n",
    "# g = sns.barplot(x='Test score', y='Model', data=bm, palette='inferno', edgecolor=sns.color_palette('dark',10), )\n",
    "# g.text(bm['Test score'], bm['Model'], round(bm['Test score'],4), color='black', ha=\"center\")\n",
    "# plt.ylabel('Model', fontsize=15)\n",
    "# plt.xticks(rotation=45,fontsize=20)\n",
    "# plt.xlabel('Test Score', fontsize=15)\n",
    "# plt.title('Best Model', fontsize=24)\n",
    "# plt.savefig('best_model.png')\n",
    "# plt.show()"
   ]
  },
  {
   "cell_type": "code",
   "execution_count": 547,
   "id": "86e09ad8",
   "metadata": {},
   "outputs": [],
   "source": [
    "lr = LogisticRegression(solver='liblinear', multi_class='auto', C=10, penalty='l1')\n",
    "rf = RandomForestClassifier(n_estimators=200, max_depth=8)\n",
    "svc = SVC(gamma='auto', C=20, kernel='linear')\n",
    "knn = KNeighborsClassifier(n_neighbors=1, leaf_size=1, p=1)"
   ]
  },
  {
   "cell_type": "code",
   "execution_count": null,
   "id": "195fbc06",
   "metadata": {},
   "outputs": [],
   "source": []
  },
  {
   "cell_type": "code",
   "execution_count": 548,
   "id": "626f13d0",
   "metadata": {},
   "outputs": [
    {
     "data": {
      "text/plain": [
       "0.8309193497174067"
      ]
     },
     "execution_count": 548,
     "metadata": {},
     "output_type": "execute_result"
    }
   ],
   "source": [
    "#Logistic Regression\n",
    "scores = cross_val_score(lr, xtest, ytest, scoring= 'accuracy', cv =cv, n_jobs=-1)\n",
    "np.mean(scores)"
   ]
  },
  {
   "cell_type": "code",
   "execution_count": 549,
   "id": "1c0eca7f",
   "metadata": {},
   "outputs": [
    {
     "data": {
      "text/plain": [
       "0.9799970788086619"
      ]
     },
     "execution_count": 549,
     "metadata": {},
     "output_type": "execute_result"
    }
   ],
   "source": [
    "#Random Forest\n",
    "scores = cross_val_score(rf, xtest, ytest, scoring= 'accuracy', cv =cv, n_jobs=-1)\n",
    "np.mean(scores)"
   ]
  },
  {
   "cell_type": "code",
   "execution_count": 550,
   "id": "146cc54c",
   "metadata": {},
   "outputs": [
    {
     "data": {
      "text/plain": [
       "0.9907571600939862"
      ]
     },
     "execution_count": 550,
     "metadata": {},
     "output_type": "execute_result"
    }
   ],
   "source": [
    "#SVC\n",
    "scores = cross_val_score(svc, xtest, ytest, scoring= 'accuracy', cv =cv, n_jobs=-1)\n",
    "np.mean(scores)"
   ]
  },
  {
   "cell_type": "code",
   "execution_count": 551,
   "id": "1161873e",
   "metadata": {},
   "outputs": [
    {
     "data": {
      "text/plain": [
       "0.9727316949260177"
      ]
     },
     "execution_count": 551,
     "metadata": {},
     "output_type": "execute_result"
    }
   ],
   "source": [
    "#KNN\n",
    "scores = cross_val_score(knn, xtest, ytest, scoring= 'accuracy', cv =cv, n_jobs=-1)\n",
    "np.mean(scores)"
   ]
  },
  {
   "cell_type": "markdown",
   "id": "757a27a2",
   "metadata": {},
   "source": [
    "### Final model evaluation"
   ]
  },
  {
   "cell_type": "code",
   "execution_count": 617,
   "id": "30365e78",
   "metadata": {},
   "outputs": [],
   "source": [
    "rf = RandomForestClassifier(n_estimators=200, max_depth=8)"
   ]
  },
  {
   "cell_type": "code",
   "execution_count": 618,
   "id": "847214d1",
   "metadata": {},
   "outputs": [
    {
     "data": {
      "text/plain": [
       "RandomForestClassifier(max_depth=8, n_estimators=200)"
      ]
     },
     "execution_count": 618,
     "metadata": {},
     "output_type": "execute_result"
    }
   ],
   "source": [
    "rf.fit(xtrain, ytrain)"
   ]
  },
  {
   "cell_type": "code",
   "execution_count": 619,
   "id": "b972be52",
   "metadata": {},
   "outputs": [],
   "source": [
    "ypred = rf.predict(xtest)"
   ]
  },
  {
   "cell_type": "code",
   "execution_count": 620,
   "id": "7e9803fb",
   "metadata": {},
   "outputs": [
    {
     "data": {
      "image/png": "[encoded data removed]",
      "text/plain": [
       "<Figure size 1080x360 with 2 Axes>"
      ]
     },
     "metadata": {
      "needs_background": "light"
     },
     "output_type": "display_data"
    }
   ],
   "source": [
    "cm = confusion_matrix(ytest, ypred)\n",
    "\n",
    "fig = plt.figure(figsize = (15, 5))\n",
    "sns.heatmap(cm, annot=True)\n",
    "plt.title('Confusion Matrix')\n",
    "plt\n",
    "plt.show()"
   ]
  },
  {
   "cell_type": "code",
   "execution_count": 561,
   "id": "d412fd6f",
   "metadata": {},
   "outputs": [
    {
     "name": "stdout",
     "output_type": "stream",
     "text": [
      "                                precision    recall  f1-score   support\n",
      "\n",
      "                          Good       0.99      1.00      1.00      1208\n",
      "                     Hazardous       1.00      1.00      1.00      1208\n",
      "                      Moderate       0.99      0.98      0.99      1208\n",
      "                     Unhealthy       0.96      0.98      0.97      1208\n",
      "Unhealthy for Sensitive groups       0.98      0.97      0.98      1209\n",
      "                Very Unhealthy       0.98      0.99      0.98      1208\n",
      "\n",
      "                      accuracy                           0.98      7249\n",
      "                     macro avg       0.98      0.98      0.98      7249\n",
      "                  weighted avg       0.98      0.98      0.98      7249\n",
      "\n"
     ]
    }
   ],
   "source": [
    "print(classification_report(ytest, ypred))"
   ]
  },
  {
   "cell_type": "code",
   "execution_count": 622,
   "id": "10dcb596",
   "metadata": {},
   "outputs": [
    {
     "name": "stdout",
     "output_type": "stream",
     "text": [
      "0.9833080424886191\n"
     ]
    }
   ],
   "source": [
    "print(accuracy_score(ytest, ypred))"
   ]
  },
  {
   "cell_type": "code",
   "execution_count": 621,
   "id": "28583bd0",
   "metadata": {},
   "outputs": [
    {
     "name": "stdout",
     "output_type": "stream",
     "text": [
      "0.9833162831265209\n"
     ]
    }
   ],
   "source": [
    "print(f1_score(ytest, ypred, average='weighted'))"
   ]
  }
 ],
 "metadata": {
  "kernelspec": {
   "display_name": "Python 3 (ipykernel)",
   "language": "python",
   "name": "python3"
  },
  "language_info": {
   "codemirror_mode": {
    "name": "ipython",
    "version": 3
   },
   "file_extension": ".py",
   "mimetype": "text/x-python",
   "name": "python",
   "nbconvert_exporter": "python",
   "pygments_lexer": "ipython3",
   "version": "3.7.11"
  }
 },
 "nbformat": 4,
 "nbformat_minor": 5
}
